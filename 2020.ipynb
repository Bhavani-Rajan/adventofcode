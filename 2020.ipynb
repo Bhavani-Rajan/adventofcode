{
 "cells": [
  {
   "cell_type": "code",
   "execution_count": 1,
   "metadata": {},
   "outputs": [],
   "source": [
    "import pandas as pd\n",
    "import numpy as np"
   ]
  },
  {
   "cell_type": "raw",
   "metadata": {},
   "source": [
    "--- Day 1: Report Repair ---\n",
    "After saving Christmas five years in a row, you've decided to take a vacation at a nice resort on a tropical island. Surely, Christmas will go on without you.\n",
    "\n",
    "The tropical island has its own currency and is entirely cash-only. The gold coins used there have a little picture of a starfish; the locals just call them stars. None of the currency exchanges seem to have heard of them, but somehow, you'll need to find fifty of these coins by the time you arrive so you can pay the deposit on your room.\n",
    "\n",
    "To save your vacation, you need to get all fifty stars by December 25th.\n",
    "\n",
    "Collect stars by solving puzzles. Two puzzles will be made available on each day in the Advent calendar; the second puzzle is unlocked when you complete the first. Each puzzle grants one star. Good luck!\n",
    "\n",
    "Before you leave, the Elves in accounting just need you to fix your expense report (your puzzle input); apparently, something isn't quite adding up.\n",
    "\n",
    "Specifically, they need you to find the two entries that sum to 2020 and then multiply those two numbers together.\n",
    "\n",
    "For example, suppose your expense report contained the following:\n",
    "\n",
    "1721\n",
    "979\n",
    "366\n",
    "299\n",
    "675\n",
    "1456\n",
    "In this list, the two entries that sum to 2020 are 1721 and 299. Multiplying them together produces 1721 * 299 = 514579, so the correct answer is 514579.\n",
    "\n",
    "Of course, your expense report is much larger. Find the two entries that sum to 2020; what do you get if you multiply them together?\n",
    "\n"
   ]
  },
  {
   "cell_type": "code",
   "execution_count": 10,
   "metadata": {},
   "outputs": [
    {
     "name": "stdout",
     "output_type": "stream",
     "text": [
      "299 x 1721 = 514579\n",
      "{1721: 299, 979: 1041, 366: 1654, 299: 1721, 675: 1345, 1456: 564}\n"
     ]
    }
   ],
   "source": [
    "l = [1721,\n",
    "979,\n",
    "366,\n",
    "299,\n",
    "675,\n",
    "1456]\n",
    "total = 2020\n",
    "dict_l = {}\n",
    "for elem in l:\n",
    "    dict_l[elem] = total - elem\n",
    "for elem in dict_l.values():\n",
    "    if elem in dict_l.keys():\n",
    "        print(f\"{elem} x {dict_l[elem]} = {elem * dict_l[elem]}\")\n",
    "        break\n",
    "print(dict_l)"
   ]
  },
  {
   "cell_type": "code",
   "execution_count": 31,
   "metadata": {},
   "outputs": [],
   "source": [
    "ip = pd.read_csv(\"./2020/input.csv\", header=None)"
   ]
  },
  {
   "cell_type": "code",
   "execution_count": 32,
   "metadata": {},
   "outputs": [],
   "source": [
    "l = ip[0].to_list()"
   ]
  },
  {
   "cell_type": "code",
   "execution_count": 23,
   "metadata": {},
   "outputs": [],
   "source": [
    "def mult_2_2020(l):\n",
    "    total = 2020\n",
    "    dict_l = {}\n",
    "    for elem in l:\n",
    "        dict_l[elem] = total - elem\n",
    "    for elem in dict_l.values():\n",
    "        if elem in dict_l.keys():\n",
    "            print(f\"{elem} x {dict_l[elem]} = {elem * dict_l[elem]}\")\n",
    "            break"
   ]
  },
  {
   "cell_type": "code",
   "execution_count": 24,
   "metadata": {},
   "outputs": [
    {
     "name": "stdout",
     "output_type": "stream",
     "text": [
      "1644 x 376 = 618144\n"
     ]
    }
   ],
   "source": [
    "mult_2_2020(l)"
   ]
  },
  {
   "cell_type": "code",
   "execution_count": null,
   "metadata": {},
   "outputs": [],
   "source": [
    "--- Part Two ---\n",
    "The Elves in accounting are thankful for your help; \n",
    "one of them even offers you a starfish coin they had left over from a past vacation. \n",
    "They offer you a second one \n",
    "if you can find three numbers in your expense report that meet the same criteria.\n",
    "\n",
    "Using the above example again, the three entries that sum to 2020 are 979, 366, and 675. \n",
    "Multiplying them together produces the answer, 241861950.\n",
    "\n",
    "In your expense report, what is the product of the three entries that sum to 2020?\n",
    "\n"
   ]
  },
  {
   "cell_type": "code",
   "execution_count": 36,
   "metadata": {},
   "outputs": [],
   "source": [
    "from itertools import combinations\n",
    "def mult_3_2020(l):\n",
    "    total = 2020\n",
    "    comb_l = list(combinations(l,3))\n",
    "    for elem in comb_l:\n",
    "        if sum(elem) == total:\n",
    "            print(elem[0] * elem[1] * elem[2])"
   ]
  },
  {
   "cell_type": "code",
   "execution_count": 37,
   "metadata": {},
   "outputs": [
    {
     "name": "stdout",
     "output_type": "stream",
     "text": [
      "241861950\n"
     ]
    }
   ],
   "source": [
    "l = [1721,\n",
    "979,\n",
    "366,\n",
    "299,\n",
    "675,\n",
    "1456]\n",
    "mult_3_2020(l)"
   ]
  },
  {
   "cell_type": "code",
   "execution_count": 38,
   "metadata": {},
   "outputs": [
    {
     "name": "stdout",
     "output_type": "stream",
     "text": [
      "173538720\n"
     ]
    }
   ],
   "source": [
    "ip = pd.read_csv(\"./2020/input.csv\", header=None)\n",
    "l = ip[0].to_list()\n",
    "mult_3_2020(l)"
   ]
  },
  {
   "cell_type": "code",
   "execution_count": null,
   "metadata": {},
   "outputs": [],
   "source": []
  }
 ],
 "metadata": {
  "kernelspec": {
   "display_name": "Python 3",
   "language": "python",
   "name": "python3"
  },
  "language_info": {
   "codemirror_mode": {
    "name": "ipython",
    "version": 3
   },
   "file_extension": ".py",
   "mimetype": "text/x-python",
   "name": "python",
   "nbconvert_exporter": "python",
   "pygments_lexer": "ipython3",
   "version": "3.7.4"
  }
 },
 "nbformat": 4,
 "nbformat_minor": 4
}
