{
 "cells": [
  {
   "cell_type": "code",
   "execution_count": 6,
   "metadata": {},
   "outputs": [],
   "source": [
    "import pandas as pd\n",
    "import numpy as np"
   ]
  },
  {
   "cell_type": "raw",
   "metadata": {},
   "source": [
    "--- Day 1: Report Repair ---\n",
    "After saving Christmas five years in a row, you've decided to take a vacation at a nice resort on a tropical island. Surely, Christmas will go on without you.\n",
    "\n",
    "The tropical island has its own currency and is entirely cash-only. The gold coins used there have a little picture of a starfish; the locals just call them stars. None of the currency exchanges seem to have heard of them, but somehow, you'll need to find fifty of these coins by the time you arrive so you can pay the deposit on your room.\n",
    "\n",
    "To save your vacation, you need to get all fifty stars by December 25th.\n",
    "\n",
    "Collect stars by solving puzzles. Two puzzles will be made available on each day in the Advent calendar; the second puzzle is unlocked when you complete the first. Each puzzle grants one star. Good luck!\n",
    "\n",
    "Before you leave, the Elves in accounting just need you to fix your expense report (your puzzle input); apparently, something isn't quite adding up.\n",
    "\n",
    "Specifically, they need you to find the two entries that sum to 2020 and then multiply those two numbers together.\n",
    "\n",
    "For example, suppose your expense report contained the following:\n",
    "\n",
    "1721\n",
    "979\n",
    "366\n",
    "299\n",
    "675\n",
    "1456\n",
    "In this list, the two entries that sum to 2020 are 1721 and 299. Multiplying them together produces 1721 * 299 = 514579, so the correct answer is 514579.\n",
    "\n",
    "Of course, your expense report is much larger. Find the two entries that sum to 2020; what do you get if you multiply them together?\n",
    "\n"
   ]
  },
  {
   "cell_type": "code",
   "execution_count": 10,
   "metadata": {},
   "outputs": [
    {
     "name": "stdout",
     "output_type": "stream",
     "text": [
      "299 x 1721 = 514579\n",
      "{1721: 299, 979: 1041, 366: 1654, 299: 1721, 675: 1345, 1456: 564}\n"
     ]
    }
   ],
   "source": [
    "l = [1721,\n",
    "979,\n",
    "366,\n",
    "299,\n",
    "675,\n",
    "1456]\n",
    "total = 2020\n",
    "dict_l = {}\n",
    "for elem in l:\n",
    "    dict_l[elem] = total - elem\n",
    "for elem in dict_l.values():\n",
    "    if elem in dict_l.keys():\n",
    "        print(f\"{elem} x {dict_l[elem]} = {elem * dict_l[elem]}\")\n",
    "        break\n",
    "print(dict_l)"
   ]
  },
  {
   "cell_type": "code",
   "execution_count": 31,
   "metadata": {},
   "outputs": [],
   "source": [
    "ip = pd.read_csv(\"./2020/input.csv\", header=None)"
   ]
  },
  {
   "cell_type": "code",
   "execution_count": 32,
   "metadata": {},
   "outputs": [],
   "source": [
    "l = ip[0].to_list()"
   ]
  },
  {
   "cell_type": "code",
   "execution_count": 23,
   "metadata": {},
   "outputs": [],
   "source": [
    "def mult_2_2020(l):\n",
    "    total = 2020\n",
    "    dict_l = {}\n",
    "    for elem in l:\n",
    "        dict_l[elem] = total - elem\n",
    "    for elem in dict_l.values():\n",
    "        if elem in dict_l.keys():\n",
    "            print(f\"{elem} x {dict_l[elem]} = {elem * dict_l[elem]}\")\n",
    "            break"
   ]
  },
  {
   "cell_type": "code",
   "execution_count": 24,
   "metadata": {},
   "outputs": [
    {
     "name": "stdout",
     "output_type": "stream",
     "text": [
      "1644 x 376 = 618144\n"
     ]
    }
   ],
   "source": [
    "mult_2_2020(l)"
   ]
  },
  {
   "cell_type": "code",
   "execution_count": null,
   "metadata": {},
   "outputs": [],
   "source": [
    "--- Part Two ---\n",
    "The Elves in accounting are thankful for your help; \n",
    "one of them even offers you a starfish coin they had left over from a past vacation. \n",
    "They offer you a second one \n",
    "if you can find three numbers in your expense report that meet the same criteria.\n",
    "\n",
    "Using the above example again, the three entries that sum to 2020 are 979, 366, and 675. \n",
    "Multiplying them together produces the answer, 241861950.\n",
    "\n",
    "In your expense report, what is the product of the three entries that sum to 2020?\n",
    "\n"
   ]
  },
  {
   "cell_type": "code",
   "execution_count": 36,
   "metadata": {},
   "outputs": [],
   "source": [
    "from itertools import combinations\n",
    "def mult_3_2020(l):\n",
    "    total = 2020\n",
    "    comb_l = list(combinations(l,3))\n",
    "    for elem in comb_l:\n",
    "        if sum(elem) == total:\n",
    "            print(elem[0] * elem[1] * elem[2])"
   ]
  },
  {
   "cell_type": "code",
   "execution_count": 37,
   "metadata": {},
   "outputs": [
    {
     "name": "stdout",
     "output_type": "stream",
     "text": [
      "241861950\n"
     ]
    }
   ],
   "source": [
    "l = [1721,\n",
    "979,\n",
    "366,\n",
    "299,\n",
    "675,\n",
    "1456]\n",
    "mult_3_2020(l)"
   ]
  },
  {
   "cell_type": "code",
   "execution_count": 38,
   "metadata": {},
   "outputs": [
    {
     "name": "stdout",
     "output_type": "stream",
     "text": [
      "173538720\n"
     ]
    }
   ],
   "source": [
    "ip = pd.read_csv(\"./2020/input.csv\", header=None)\n",
    "l = ip[0].to_list()\n",
    "mult_3_2020(l)"
   ]
  },
  {
   "cell_type": "code",
   "execution_count": null,
   "metadata": {},
   "outputs": [],
   "source": [
    "--- Day 2: Password Philosophy ---\n",
    "Your flight departs in a few days from the coastal airport; \n",
    "the easiest way down to the coast from here is via toboggan.\n",
    "\n",
    "The shopkeeper at the North Pole Toboggan Rental Shop is having a bad day. \n",
    "\"Something's wrong with our computers; we can't log in!\" You ask if you can take a look.\n",
    "\n",
    "Their password database seems to be a little corrupted: \n",
    "some of the passwords wouldn't have been allowed by \n",
    "the Official Toboggan Corporate Policy that was in effect when they were chosen.\n",
    "\n",
    "To try to debug the problem, \n",
    "they have created a list (your puzzle input) of passwords \n",
    "(according to the corrupted database) and the corporate policy when that password was set.\n",
    "\n",
    "For example, suppose you have the following list:\n",
    "\n",
    "1-3 a: abcde\n",
    "1-3 b: cdefg\n",
    "2-9 c: ccccccccc\n",
    "Each line gives the password policy and then the password. \n",
    "The password policy indicates the lowest and highest number of times \n",
    "a given letter must appear for the password to be valid. \n",
    "For example, 1-3 a means that the password must contain a at least 1 time and at most 3 times.\n",
    "\n",
    "In the above example, 2 passwords are valid. \n",
    "The middle password, cdefg, is not; \n",
    "it contains no instances of b, but needs at least 1. \n",
    "The first and third passwords are valid: \n",
    "they contain one a or nine c, both within the limits of their respective policies.\n",
    "\n",
    "How many passwords are valid according to their policies?"
   ]
  },
  {
   "cell_type": "code",
   "execution_count": 188,
   "metadata": {},
   "outputs": [],
   "source": []
  },
  {
   "cell_type": "code",
   "execution_count": 7,
   "metadata": {},
   "outputs": [
    {
     "name": "stdout",
     "output_type": "stream",
     "text": [
      "['1-3 a: abcde', '1-3 b: cdefg', '2-9 c: ccccccccc']\n"
     ]
    },
    {
     "data": {
      "text/html": [
       "<div>\n",
       "<style scoped>\n",
       "    .dataframe tbody tr th:only-of-type {\n",
       "        vertical-align: middle;\n",
       "    }\n",
       "\n",
       "    .dataframe tbody tr th {\n",
       "        vertical-align: top;\n",
       "    }\n",
       "\n",
       "    .dataframe thead th {\n",
       "        text-align: right;\n",
       "    }\n",
       "</style>\n",
       "<table border=\"1\" class=\"dataframe\">\n",
       "  <thead>\n",
       "    <tr style=\"text-align: right;\">\n",
       "      <th></th>\n",
       "      <th>0</th>\n",
       "    </tr>\n",
       "  </thead>\n",
       "  <tbody>\n",
       "    <tr>\n",
       "      <th>0</th>\n",
       "      <td>1-3 a: abcde</td>\n",
       "    </tr>\n",
       "    <tr>\n",
       "      <th>1</th>\n",
       "      <td>1-3 b: cdefg</td>\n",
       "    </tr>\n",
       "    <tr>\n",
       "      <th>2</th>\n",
       "      <td>2-9 c: ccccccccc</td>\n",
       "    </tr>\n",
       "  </tbody>\n",
       "</table>\n",
       "</div>"
      ],
      "text/plain": [
       "                  0\n",
       "0      1-3 a: abcde\n",
       "1      1-3 b: cdefg\n",
       "2  2-9 c: ccccccccc"
      ]
     },
     "execution_count": 7,
     "metadata": {},
     "output_type": "execute_result"
    }
   ],
   "source": [
    "l = [\n",
    "    \"1-3 a: abcde\",\n",
    "    \"1-3 b: cdefg\",\n",
    "    \"2-9 c: ccccccccc\"\n",
    "]\n",
    "print(l)\n",
    "pwd = pd.DataFrame(l)\n",
    "pwd"
   ]
  },
  {
   "cell_type": "code",
   "execution_count": 8,
   "metadata": {},
   "outputs": [
    {
     "data": {
      "text/html": [
       "<div>\n",
       "<style scoped>\n",
       "    .dataframe tbody tr th:only-of-type {\n",
       "        vertical-align: middle;\n",
       "    }\n",
       "\n",
       "    .dataframe tbody tr th {\n",
       "        vertical-align: top;\n",
       "    }\n",
       "\n",
       "    .dataframe thead th {\n",
       "        text-align: right;\n",
       "    }\n",
       "</style>\n",
       "<table border=\"1\" class=\"dataframe\">\n",
       "  <thead>\n",
       "    <tr style=\"text-align: right;\">\n",
       "      <th></th>\n",
       "      <th>0</th>\n",
       "    </tr>\n",
       "  </thead>\n",
       "  <tbody>\n",
       "    <tr>\n",
       "      <th>0</th>\n",
       "      <td>1-2 x: xpxc</td>\n",
       "    </tr>\n",
       "    <tr>\n",
       "      <th>1</th>\n",
       "      <td>1-5 b: bwlbbbbcq</td>\n",
       "    </tr>\n",
       "    <tr>\n",
       "      <th>2</th>\n",
       "      <td>3-5 v: qvjjdhvl</td>\n",
       "    </tr>\n",
       "    <tr>\n",
       "      <th>3</th>\n",
       "      <td>9-12 t: ttfjvvtgxtctrntnhtt</td>\n",
       "    </tr>\n",
       "    <tr>\n",
       "      <th>4</th>\n",
       "      <td>3-4 r: rqjw</td>\n",
       "    </tr>\n",
       "    <tr>\n",
       "      <th>...</th>\n",
       "      <td>...</td>\n",
       "    </tr>\n",
       "    <tr>\n",
       "      <th>995</th>\n",
       "      <td>5-7 n: lbwxnnnncnnwnv</td>\n",
       "    </tr>\n",
       "    <tr>\n",
       "      <th>996</th>\n",
       "      <td>8-9 k: kgkkkkkjf</td>\n",
       "    </tr>\n",
       "    <tr>\n",
       "      <th>997</th>\n",
       "      <td>7-9 l: llllllllll</td>\n",
       "    </tr>\n",
       "    <tr>\n",
       "      <th>998</th>\n",
       "      <td>15-19 p: pppbpcppxcptppvmpppb</td>\n",
       "    </tr>\n",
       "    <tr>\n",
       "      <th>999</th>\n",
       "      <td>3-4 m: fqmwcncsmp</td>\n",
       "    </tr>\n",
       "  </tbody>\n",
       "</table>\n",
       "<p>1000 rows × 1 columns</p>\n",
       "</div>"
      ],
      "text/plain": [
       "                                 0\n",
       "0                      1-2 x: xpxc\n",
       "1                 1-5 b: bwlbbbbcq\n",
       "2                  3-5 v: qvjjdhvl\n",
       "3      9-12 t: ttfjvvtgxtctrntnhtt\n",
       "4                      3-4 r: rqjw\n",
       "..                             ...\n",
       "995          5-7 n: lbwxnnnncnnwnv\n",
       "996               8-9 k: kgkkkkkjf\n",
       "997              7-9 l: llllllllll\n",
       "998  15-19 p: pppbpcppxcptppvmpppb\n",
       "999              3-4 m: fqmwcncsmp\n",
       "\n",
       "[1000 rows x 1 columns]"
      ]
     },
     "execution_count": 8,
     "metadata": {},
     "output_type": "execute_result"
    }
   ],
   "source": [
    "pwd = pd.read_csv(\"./2020/2/input.csv\", header=None)\n",
    "pwd"
   ]
  },
  {
   "cell_type": "code",
   "execution_count": 9,
   "metadata": {},
   "outputs": [],
   "source": [
    "def split_string(s):\n",
    "    subs = s.split(\":\")\n",
    "    string = subs[1].strip()\n",
    "    vals = subs[0].split(' ')\n",
    "    letter = vals[1]\n",
    "    vals = vals[0].split('-')\n",
    "    lo_limit = vals[0]\n",
    "    hi_limit = vals[1]\n",
    "    \n",
    "    return pd.Series([string, letter, lo_limit, hi_limit])"
   ]
  },
  {
   "cell_type": "code",
   "execution_count": 11,
   "metadata": {},
   "outputs": [
    {
     "data": {
      "text/html": [
       "<div>\n",
       "<style scoped>\n",
       "    .dataframe tbody tr th:only-of-type {\n",
       "        vertical-align: middle;\n",
       "    }\n",
       "\n",
       "    .dataframe tbody tr th {\n",
       "        vertical-align: top;\n",
       "    }\n",
       "\n",
       "    .dataframe thead th {\n",
       "        text-align: right;\n",
       "    }\n",
       "</style>\n",
       "<table border=\"1\" class=\"dataframe\">\n",
       "  <thead>\n",
       "    <tr style=\"text-align: right;\">\n",
       "      <th></th>\n",
       "      <th>0</th>\n",
       "      <th>string</th>\n",
       "      <th>letter</th>\n",
       "      <th>lo_limit</th>\n",
       "      <th>hi_limit</th>\n",
       "    </tr>\n",
       "  </thead>\n",
       "  <tbody>\n",
       "    <tr>\n",
       "      <th>0</th>\n",
       "      <td>1-2 x: xpxc</td>\n",
       "      <td>xpxc</td>\n",
       "      <td>x</td>\n",
       "      <td>1</td>\n",
       "      <td>2</td>\n",
       "    </tr>\n",
       "    <tr>\n",
       "      <th>1</th>\n",
       "      <td>1-5 b: bwlbbbbcq</td>\n",
       "      <td>bwlbbbbcq</td>\n",
       "      <td>b</td>\n",
       "      <td>1</td>\n",
       "      <td>5</td>\n",
       "    </tr>\n",
       "    <tr>\n",
       "      <th>2</th>\n",
       "      <td>3-5 v: qvjjdhvl</td>\n",
       "      <td>qvjjdhvl</td>\n",
       "      <td>v</td>\n",
       "      <td>3</td>\n",
       "      <td>5</td>\n",
       "    </tr>\n",
       "    <tr>\n",
       "      <th>3</th>\n",
       "      <td>9-12 t: ttfjvvtgxtctrntnhtt</td>\n",
       "      <td>ttfjvvtgxtctrntnhtt</td>\n",
       "      <td>t</td>\n",
       "      <td>9</td>\n",
       "      <td>12</td>\n",
       "    </tr>\n",
       "    <tr>\n",
       "      <th>4</th>\n",
       "      <td>3-4 r: rqjw</td>\n",
       "      <td>rqjw</td>\n",
       "      <td>r</td>\n",
       "      <td>3</td>\n",
       "      <td>4</td>\n",
       "    </tr>\n",
       "    <tr>\n",
       "      <th>...</th>\n",
       "      <td>...</td>\n",
       "      <td>...</td>\n",
       "      <td>...</td>\n",
       "      <td>...</td>\n",
       "      <td>...</td>\n",
       "    </tr>\n",
       "    <tr>\n",
       "      <th>995</th>\n",
       "      <td>5-7 n: lbwxnnnncnnwnv</td>\n",
       "      <td>lbwxnnnncnnwnv</td>\n",
       "      <td>n</td>\n",
       "      <td>5</td>\n",
       "      <td>7</td>\n",
       "    </tr>\n",
       "    <tr>\n",
       "      <th>996</th>\n",
       "      <td>8-9 k: kgkkkkkjf</td>\n",
       "      <td>kgkkkkkjf</td>\n",
       "      <td>k</td>\n",
       "      <td>8</td>\n",
       "      <td>9</td>\n",
       "    </tr>\n",
       "    <tr>\n",
       "      <th>997</th>\n",
       "      <td>7-9 l: llllllllll</td>\n",
       "      <td>llllllllll</td>\n",
       "      <td>l</td>\n",
       "      <td>7</td>\n",
       "      <td>9</td>\n",
       "    </tr>\n",
       "    <tr>\n",
       "      <th>998</th>\n",
       "      <td>15-19 p: pppbpcppxcptppvmpppb</td>\n",
       "      <td>pppbpcppxcptppvmpppb</td>\n",
       "      <td>p</td>\n",
       "      <td>15</td>\n",
       "      <td>19</td>\n",
       "    </tr>\n",
       "    <tr>\n",
       "      <th>999</th>\n",
       "      <td>3-4 m: fqmwcncsmp</td>\n",
       "      <td>fqmwcncsmp</td>\n",
       "      <td>m</td>\n",
       "      <td>3</td>\n",
       "      <td>4</td>\n",
       "    </tr>\n",
       "  </tbody>\n",
       "</table>\n",
       "<p>1000 rows × 5 columns</p>\n",
       "</div>"
      ],
      "text/plain": [
       "                                 0                string letter  lo_limit  \\\n",
       "0                      1-2 x: xpxc                  xpxc      x         1   \n",
       "1                 1-5 b: bwlbbbbcq             bwlbbbbcq      b         1   \n",
       "2                  3-5 v: qvjjdhvl              qvjjdhvl      v         3   \n",
       "3      9-12 t: ttfjvvtgxtctrntnhtt   ttfjvvtgxtctrntnhtt      t         9   \n",
       "4                      3-4 r: rqjw                  rqjw      r         3   \n",
       "..                             ...                   ...    ...       ...   \n",
       "995          5-7 n: lbwxnnnncnnwnv        lbwxnnnncnnwnv      n         5   \n",
       "996               8-9 k: kgkkkkkjf             kgkkkkkjf      k         8   \n",
       "997              7-9 l: llllllllll            llllllllll      l         7   \n",
       "998  15-19 p: pppbpcppxcptppvmpppb  pppbpcppxcptppvmpppb      p        15   \n",
       "999              3-4 m: fqmwcncsmp            fqmwcncsmp      m         3   \n",
       "\n",
       "     hi_limit  \n",
       "0           2  \n",
       "1           5  \n",
       "2           5  \n",
       "3          12  \n",
       "4           4  \n",
       "..        ...  \n",
       "995         7  \n",
       "996         9  \n",
       "997         9  \n",
       "998        19  \n",
       "999         4  \n",
       "\n",
       "[1000 rows x 5 columns]"
      ]
     },
     "execution_count": 11,
     "metadata": {},
     "output_type": "execute_result"
    }
   ],
   "source": [
    "pwd[['string', 'letter', 'lo_limit', 'hi_limit']] = pwd[0].apply(split_string)\n",
    "pwd['lo_limit'] = pwd['lo_limit'].astype(int)\n",
    "pwd['hi_limit'] = pwd['hi_limit'].astype(int)\n",
    "pwd"
   ]
  },
  {
   "cell_type": "code",
   "execution_count": 12,
   "metadata": {},
   "outputs": [],
   "source": [
    "import numpy as np\n",
    "def is_pwd(s,letter, lo_limit, hi_limit):\n",
    "#     print(s, letter, lo_limit, hi_limit)\n",
    "    rt = 0\n",
    "    found = s.count(letter)\n",
    "    if ((found >= lo_limit) and (found <= hi_limit)):\n",
    "        rt = 1\n",
    "    return rt\n"
   ]
  },
  {
   "cell_type": "code",
   "execution_count": 13,
   "metadata": {},
   "outputs": [
    {
     "data": {
      "text/plain": [
       "556"
      ]
     },
     "execution_count": 13,
     "metadata": {},
     "output_type": "execute_result"
    }
   ],
   "source": [
    "pwd['is_pwd'] = np.vectorize(is_pwd)(pwd['string'],pwd['letter'],pwd['lo_limit'],pwd['hi_limit'])\n",
    "pwd['is_pwd'].sum()"
   ]
  },
  {
   "cell_type": "code",
   "execution_count": 14,
   "metadata": {},
   "outputs": [
    {
     "data": {
      "text/plain": [
       "3"
      ]
     },
     "execution_count": 14,
     "metadata": {},
     "output_type": "execute_result"
    }
   ],
   "source": [
    "s = \"abcdaae\"\n",
    "letter =\"a\"\n",
    "s.count(letter)"
   ]
  },
  {
   "cell_type": "code",
   "execution_count": null,
   "metadata": {},
   "outputs": [],
   "source": [
    "--- Part Two ---\n",
    "While it appears you validated the passwords correctly, \n",
    "they don't seem to be what the Official Toboggan Corporate Authentication System is expecting.\n",
    "\n",
    "The shopkeeper suddenly realizes that he just accidentally explained \n",
    "the password policy rules from his old job at the sled rental place down the street! \n",
    "The Official Toboggan Corporate Policy actually works a little differently.\n",
    "\n",
    "Each policy actually describes two positions in the password, \n",
    "where 1 means the first character, 2 means the second character, \n",
    "and so on. (Be careful; Toboggan Corporate Policies have no concept of \"index zero\"!) \n",
    "Exactly one of these positions must contain the given letter. \n",
    "Other occurrences of the letter are irrelevant for the purposes of policy enforcement.\n",
    "\n",
    "Given the same example list from above:\n",
    "\n",
    "1-3 a: abcde is valid: position 1 contains a and position 3 does not.\n",
    "1-3 b: cdefg is invalid: neither position 1 nor position 3 contains b.\n",
    "2-9 c: ccccccccc is invalid: both position 2 and position 9 contain c.\n",
    "How many passwords are valid according to the new interpretation of the policies?"
   ]
  },
  {
   "cell_type": "code",
   "execution_count": 23,
   "metadata": {},
   "outputs": [
    {
     "data": {
      "text/plain": [
       "False"
      ]
     },
     "execution_count": 23,
     "metadata": {},
     "output_type": "execute_result"
    }
   ],
   "source": [
    "s=\"abade\"\n",
    "letter ='a'\n",
    "lo_limit = 1\n",
    "hi_limit = 3\n",
    "A = s[lo_limit - 1] == letter\n",
    "B = s[hi_limit - 1] == letter\n",
    "A ^ B"
   ]
  },
  {
   "cell_type": "code",
   "execution_count": null,
   "metadata": {},
   "outputs": [],
   "source": []
  },
  {
   "cell_type": "code",
   "execution_count": 19,
   "metadata": {},
   "outputs": [
    {
     "name": "stdout",
     "output_type": "stream",
     "text": [
      "['1-3 a: abcde', '1-3 b: cdefg', '2-9 c: ccccccccc']\n"
     ]
    },
    {
     "data": {
      "text/html": [
       "<div>\n",
       "<style scoped>\n",
       "    .dataframe tbody tr th:only-of-type {\n",
       "        vertical-align: middle;\n",
       "    }\n",
       "\n",
       "    .dataframe tbody tr th {\n",
       "        vertical-align: top;\n",
       "    }\n",
       "\n",
       "    .dataframe thead th {\n",
       "        text-align: right;\n",
       "    }\n",
       "</style>\n",
       "<table border=\"1\" class=\"dataframe\">\n",
       "  <thead>\n",
       "    <tr style=\"text-align: right;\">\n",
       "      <th></th>\n",
       "      <th>0</th>\n",
       "    </tr>\n",
       "  </thead>\n",
       "  <tbody>\n",
       "    <tr>\n",
       "      <th>0</th>\n",
       "      <td>1-3 a: abcde</td>\n",
       "    </tr>\n",
       "    <tr>\n",
       "      <th>1</th>\n",
       "      <td>1-3 b: cdefg</td>\n",
       "    </tr>\n",
       "    <tr>\n",
       "      <th>2</th>\n",
       "      <td>2-9 c: ccccccccc</td>\n",
       "    </tr>\n",
       "  </tbody>\n",
       "</table>\n",
       "</div>"
      ],
      "text/plain": [
       "                  0\n",
       "0      1-3 a: abcde\n",
       "1      1-3 b: cdefg\n",
       "2  2-9 c: ccccccccc"
      ]
     },
     "execution_count": 19,
     "metadata": {},
     "output_type": "execute_result"
    }
   ],
   "source": [
    "l = [\n",
    "    \"1-3 a: abcde\",\n",
    "    \"1-3 b: cdefg\",\n",
    "    \"2-9 c: ccccccccc\"\n",
    "]\n",
    "print(l)\n",
    "pwd = pd.DataFrame(l)\n",
    "pwd"
   ]
  },
  {
   "cell_type": "code",
   "execution_count": 26,
   "metadata": {},
   "outputs": [
    {
     "data": {
      "text/html": [
       "<div>\n",
       "<style scoped>\n",
       "    .dataframe tbody tr th:only-of-type {\n",
       "        vertical-align: middle;\n",
       "    }\n",
       "\n",
       "    .dataframe tbody tr th {\n",
       "        vertical-align: top;\n",
       "    }\n",
       "\n",
       "    .dataframe thead th {\n",
       "        text-align: right;\n",
       "    }\n",
       "</style>\n",
       "<table border=\"1\" class=\"dataframe\">\n",
       "  <thead>\n",
       "    <tr style=\"text-align: right;\">\n",
       "      <th></th>\n",
       "      <th>0</th>\n",
       "    </tr>\n",
       "  </thead>\n",
       "  <tbody>\n",
       "    <tr>\n",
       "      <th>0</th>\n",
       "      <td>1-2 x: xpxc</td>\n",
       "    </tr>\n",
       "    <tr>\n",
       "      <th>1</th>\n",
       "      <td>1-5 b: bwlbbbbcq</td>\n",
       "    </tr>\n",
       "    <tr>\n",
       "      <th>2</th>\n",
       "      <td>3-5 v: qvjjdhvl</td>\n",
       "    </tr>\n",
       "    <tr>\n",
       "      <th>3</th>\n",
       "      <td>9-12 t: ttfjvvtgxtctrntnhtt</td>\n",
       "    </tr>\n",
       "    <tr>\n",
       "      <th>4</th>\n",
       "      <td>3-4 r: rqjw</td>\n",
       "    </tr>\n",
       "    <tr>\n",
       "      <th>...</th>\n",
       "      <td>...</td>\n",
       "    </tr>\n",
       "    <tr>\n",
       "      <th>995</th>\n",
       "      <td>5-7 n: lbwxnnnncnnwnv</td>\n",
       "    </tr>\n",
       "    <tr>\n",
       "      <th>996</th>\n",
       "      <td>8-9 k: kgkkkkkjf</td>\n",
       "    </tr>\n",
       "    <tr>\n",
       "      <th>997</th>\n",
       "      <td>7-9 l: llllllllll</td>\n",
       "    </tr>\n",
       "    <tr>\n",
       "      <th>998</th>\n",
       "      <td>15-19 p: pppbpcppxcptppvmpppb</td>\n",
       "    </tr>\n",
       "    <tr>\n",
       "      <th>999</th>\n",
       "      <td>3-4 m: fqmwcncsmp</td>\n",
       "    </tr>\n",
       "  </tbody>\n",
       "</table>\n",
       "<p>1000 rows × 1 columns</p>\n",
       "</div>"
      ],
      "text/plain": [
       "                                 0\n",
       "0                      1-2 x: xpxc\n",
       "1                 1-5 b: bwlbbbbcq\n",
       "2                  3-5 v: qvjjdhvl\n",
       "3      9-12 t: ttfjvvtgxtctrntnhtt\n",
       "4                      3-4 r: rqjw\n",
       "..                             ...\n",
       "995          5-7 n: lbwxnnnncnnwnv\n",
       "996               8-9 k: kgkkkkkjf\n",
       "997              7-9 l: llllllllll\n",
       "998  15-19 p: pppbpcppxcptppvmpppb\n",
       "999              3-4 m: fqmwcncsmp\n",
       "\n",
       "[1000 rows x 1 columns]"
      ]
     },
     "execution_count": 26,
     "metadata": {},
     "output_type": "execute_result"
    }
   ],
   "source": [
    "pwd = pd.read_csv(\"./2020/2/input.csv\", header=None)\n",
    "pwd"
   ]
  },
  {
   "cell_type": "code",
   "execution_count": 27,
   "metadata": {},
   "outputs": [],
   "source": [
    "def split_string(s):\n",
    "    subs = s.split(\":\")\n",
    "    string = subs[1].strip()\n",
    "    vals = subs[0].split(' ')\n",
    "    letter = vals[1]\n",
    "    vals = vals[0].split('-')\n",
    "    lo_limit = vals[0]\n",
    "    hi_limit = vals[1]\n",
    "    \n",
    "    return pd.Series([string, letter, lo_limit, hi_limit])"
   ]
  },
  {
   "cell_type": "code",
   "execution_count": 28,
   "metadata": {},
   "outputs": [
    {
     "data": {
      "text/html": [
       "<div>\n",
       "<style scoped>\n",
       "    .dataframe tbody tr th:only-of-type {\n",
       "        vertical-align: middle;\n",
       "    }\n",
       "\n",
       "    .dataframe tbody tr th {\n",
       "        vertical-align: top;\n",
       "    }\n",
       "\n",
       "    .dataframe thead th {\n",
       "        text-align: right;\n",
       "    }\n",
       "</style>\n",
       "<table border=\"1\" class=\"dataframe\">\n",
       "  <thead>\n",
       "    <tr style=\"text-align: right;\">\n",
       "      <th></th>\n",
       "      <th>0</th>\n",
       "      <th>string</th>\n",
       "      <th>letter</th>\n",
       "      <th>lo_limit</th>\n",
       "      <th>hi_limit</th>\n",
       "    </tr>\n",
       "  </thead>\n",
       "  <tbody>\n",
       "    <tr>\n",
       "      <th>0</th>\n",
       "      <td>1-2 x: xpxc</td>\n",
       "      <td>xpxc</td>\n",
       "      <td>x</td>\n",
       "      <td>1</td>\n",
       "      <td>2</td>\n",
       "    </tr>\n",
       "    <tr>\n",
       "      <th>1</th>\n",
       "      <td>1-5 b: bwlbbbbcq</td>\n",
       "      <td>bwlbbbbcq</td>\n",
       "      <td>b</td>\n",
       "      <td>1</td>\n",
       "      <td>5</td>\n",
       "    </tr>\n",
       "    <tr>\n",
       "      <th>2</th>\n",
       "      <td>3-5 v: qvjjdhvl</td>\n",
       "      <td>qvjjdhvl</td>\n",
       "      <td>v</td>\n",
       "      <td>3</td>\n",
       "      <td>5</td>\n",
       "    </tr>\n",
       "    <tr>\n",
       "      <th>3</th>\n",
       "      <td>9-12 t: ttfjvvtgxtctrntnhtt</td>\n",
       "      <td>ttfjvvtgxtctrntnhtt</td>\n",
       "      <td>t</td>\n",
       "      <td>9</td>\n",
       "      <td>12</td>\n",
       "    </tr>\n",
       "    <tr>\n",
       "      <th>4</th>\n",
       "      <td>3-4 r: rqjw</td>\n",
       "      <td>rqjw</td>\n",
       "      <td>r</td>\n",
       "      <td>3</td>\n",
       "      <td>4</td>\n",
       "    </tr>\n",
       "    <tr>\n",
       "      <th>...</th>\n",
       "      <td>...</td>\n",
       "      <td>...</td>\n",
       "      <td>...</td>\n",
       "      <td>...</td>\n",
       "      <td>...</td>\n",
       "    </tr>\n",
       "    <tr>\n",
       "      <th>995</th>\n",
       "      <td>5-7 n: lbwxnnnncnnwnv</td>\n",
       "      <td>lbwxnnnncnnwnv</td>\n",
       "      <td>n</td>\n",
       "      <td>5</td>\n",
       "      <td>7</td>\n",
       "    </tr>\n",
       "    <tr>\n",
       "      <th>996</th>\n",
       "      <td>8-9 k: kgkkkkkjf</td>\n",
       "      <td>kgkkkkkjf</td>\n",
       "      <td>k</td>\n",
       "      <td>8</td>\n",
       "      <td>9</td>\n",
       "    </tr>\n",
       "    <tr>\n",
       "      <th>997</th>\n",
       "      <td>7-9 l: llllllllll</td>\n",
       "      <td>llllllllll</td>\n",
       "      <td>l</td>\n",
       "      <td>7</td>\n",
       "      <td>9</td>\n",
       "    </tr>\n",
       "    <tr>\n",
       "      <th>998</th>\n",
       "      <td>15-19 p: pppbpcppxcptppvmpppb</td>\n",
       "      <td>pppbpcppxcptppvmpppb</td>\n",
       "      <td>p</td>\n",
       "      <td>15</td>\n",
       "      <td>19</td>\n",
       "    </tr>\n",
       "    <tr>\n",
       "      <th>999</th>\n",
       "      <td>3-4 m: fqmwcncsmp</td>\n",
       "      <td>fqmwcncsmp</td>\n",
       "      <td>m</td>\n",
       "      <td>3</td>\n",
       "      <td>4</td>\n",
       "    </tr>\n",
       "  </tbody>\n",
       "</table>\n",
       "<p>1000 rows × 5 columns</p>\n",
       "</div>"
      ],
      "text/plain": [
       "                                 0                string letter  lo_limit  \\\n",
       "0                      1-2 x: xpxc                  xpxc      x         1   \n",
       "1                 1-5 b: bwlbbbbcq             bwlbbbbcq      b         1   \n",
       "2                  3-5 v: qvjjdhvl              qvjjdhvl      v         3   \n",
       "3      9-12 t: ttfjvvtgxtctrntnhtt   ttfjvvtgxtctrntnhtt      t         9   \n",
       "4                      3-4 r: rqjw                  rqjw      r         3   \n",
       "..                             ...                   ...    ...       ...   \n",
       "995          5-7 n: lbwxnnnncnnwnv        lbwxnnnncnnwnv      n         5   \n",
       "996               8-9 k: kgkkkkkjf             kgkkkkkjf      k         8   \n",
       "997              7-9 l: llllllllll            llllllllll      l         7   \n",
       "998  15-19 p: pppbpcppxcptppvmpppb  pppbpcppxcptppvmpppb      p        15   \n",
       "999              3-4 m: fqmwcncsmp            fqmwcncsmp      m         3   \n",
       "\n",
       "     hi_limit  \n",
       "0           2  \n",
       "1           5  \n",
       "2           5  \n",
       "3          12  \n",
       "4           4  \n",
       "..        ...  \n",
       "995         7  \n",
       "996         9  \n",
       "997         9  \n",
       "998        19  \n",
       "999         4  \n",
       "\n",
       "[1000 rows x 5 columns]"
      ]
     },
     "execution_count": 28,
     "metadata": {},
     "output_type": "execute_result"
    }
   ],
   "source": [
    "pwd[['string', 'letter', 'lo_limit', 'hi_limit']] = pwd[0].apply(split_string)\n",
    "pwd['lo_limit'] = pwd['lo_limit'].astype(int)\n",
    "pwd['hi_limit'] = pwd['hi_limit'].astype(int)\n",
    "pwd"
   ]
  },
  {
   "cell_type": "code",
   "execution_count": 29,
   "metadata": {},
   "outputs": [],
   "source": [
    "import numpy as np\n",
    "def is_pwd(s,letter, lo_limit, hi_limit):\n",
    "#     print(s, letter, lo_limit, hi_limit)\n",
    "    rt = 0\n",
    "    lo_flag = (s[lo_limit - 1] == letter)\n",
    "    hi_flag = (s[hi_limit - 1] == letter)\n",
    "    if ( lo_flag ^ hi_flag ):\n",
    "        rt = 1\n",
    "    return rt"
   ]
  },
  {
   "cell_type": "code",
   "execution_count": 30,
   "metadata": {},
   "outputs": [
    {
     "data": {
      "text/plain": [
       "605"
      ]
     },
     "execution_count": 30,
     "metadata": {},
     "output_type": "execute_result"
    }
   ],
   "source": [
    "pwd['is_pwd'] = np.vectorize(is_pwd)(pwd['string'],pwd['letter'],pwd['lo_limit'],pwd['hi_limit'])\n",
    "pwd['is_pwd'].sum()"
   ]
  },
  {
   "cell_type": "code",
   "execution_count": null,
   "metadata": {},
   "outputs": [],
   "source": [
    "--- Day 3: Toboggan Trajectory ---\n",
    "With the toboggan login problems resolved, you set off toward the airport. While travel by toboggan might be easy, it's certainly not safe: there's very minimal steering and the area is covered in trees. You'll need to see which angles will take you near the fewest trees.\n",
    "\n",
    "Due to the local geology, trees in this area only grow on exact integer coordinates in a grid. You make a map (your puzzle input) of the open squares (.) and trees (#) you can see. For example:\n",
    "\n",
    "..##.......\n",
    "#...#...#..\n",
    ".#....#..#.\n",
    "..#.#...#.#\n",
    ".#...##..#.\n",
    "..#.##.....\n",
    ".#.#.#....#\n",
    ".#........#\n",
    "#.##...#...\n",
    "#...##....#\n",
    ".#..#...#.#\n",
    "These aren't the only trees, though; \n",
    "due to something you read about once involving arboreal genetics and biome stability, \n",
    "the same pattern repeats to the right many times:\n",
    "\n",
    "..##.........##.........##.........##.........##.........##.......  --->\n",
    "#...#...#..#...#...#..#...#...#..#...#...#..#...#...#..#...#...#..\n",
    ".#....#..#..#....#..#..#....#..#..#....#..#..#....#..#..#....#..#.\n",
    "..#.#...#.#..#.#...#.#..#.#...#.#..#.#...#.#..#.#...#.#..#.#...#.#\n",
    ".#...##..#..#...##..#..#...##..#..#...##..#..#...##..#..#...##..#.\n",
    "..#.##.......#.##.......#.##.......#.##.......#.##.......#.##.....  --->\n",
    ".#.#.#....#.#.#.#....#.#.#.#....#.#.#.#....#.#.#.#....#.#.#.#....#\n",
    ".#........#.#........#.#........#.#........#.#........#.#........#\n",
    "#.##...#...#.##...#...#.##...#...#.##...#...#.##...#...#.##...#...\n",
    "#...##....##...##....##...##....##...##....##...##....##...##....#\n",
    ".#..#...#.#.#..#...#.#.#..#...#.#.#..#...#.#.#..#...#.#.#..#...#.#  --->\n",
    "You start on the open square (.) in the top-left corner and \n",
    "    need to reach the bottom (below the bottom-most row on your map).\n",
    "\n",
    "The toboggan can only follow a few specific slopes \n",
    "    (you opted for a cheaper model that prefers rational numbers); \n",
    "    start by counting all the trees you would encounter for the slope right 3, down 1:\n",
    "\n",
    "From your starting position at the top-left, check the position that is right 3 and down 1. Then, check the position that is right 3 and down 1 from there, and so on until you go past the bottom of the map.\n",
    "\n",
    "The locations you'd check in the above example are marked here with O where there was an open square and X where there was a tree:\n",
    "\n",
    "..##.........##.........##.........##.........##.........##.......  --->\n",
    "#..O#...#..#...#...#..#...#...#..#...#...#..#...#...#..#...#...#..\n",
    ".#....X..#..#....#..#..#....#..#..#....#..#..#....#..#..#....#..#.\n",
    "..#.#...#O#..#.#...#.#..#.#...#.#..#.#...#.#..#.#...#.#..#.#...#.#\n",
    ".#...##..#..X...##..#..#...##..#..#...##..#..#...##..#..#...##..#.\n",
    "..#.##.......#.X#.......#.##.......#.##.......#.##.......#.##.....  --->\n",
    ".#.#.#....#.#.#.#.O..#.#.#.#....#.#.#.#....#.#.#.#....#.#.#.#....#\n",
    ".#........#.#........X.#........#.#........#.#........#.#........#\n",
    "#.##...#...#.##...#...#.X#...#...#.##...#...#.##...#...#.##...#...\n",
    "#...##....##...##....##...#X....##...##....##...##....##...##....#\n",
    ".#..#...#.#.#..#...#.#.#..#...X.#.#..#...#.#.#..#...#.#.#..#...#.#  --->\n",
    "In this example, traversing the map using this slope would cause you to encounter 7 trees.\n",
    "\n",
    "Starting at the top-left corner of your map and following a slope of right 3 and down 1,\n",
    "how many trees would you encounter?\n",
    "\n",
    "Your puzzle answer was 289.\n"
   ]
  },
  {
   "cell_type": "code",
   "execution_count": null,
   "metadata": {},
   "outputs": [],
   "source": [
    "--- Part Two ---\n",
    "Time to check the rest of the slopes - you need to minimize the probability of a sudden arboreal stop, after all.\n",
    "\n",
    "Determine the number of trees you would encounter if, for each of the following slopes, you start at the top-left corner and traverse the map all the way to the bottom:\n",
    "\n",
    "Right 1, down 1.\n",
    "Right 3, down 1. (This is the slope you already checked.)\n",
    "Right 5, down 1.\n",
    "Right 7, down 1.\n",
    "Right 1, down 2.\n",
    "In the above example, these slopes would find 2, 7, 3, 4, and 2 tree(s) respectively; multiplied together, these produce the answer 336.\n",
    "\n",
    "What do you get if you multiply together the number of trees encountered on each of the listed slopes?\n",
    "\n",
    "Your puzzle answer was 5522401584."
   ]
  },
  {
   "cell_type": "code",
   "execution_count": 127,
   "metadata": {},
   "outputs": [],
   "source": [
    "import pandas as pd\n",
    "import numpy as np\n",
    "import math\n"
   ]
  },
  {
   "cell_type": "code",
   "execution_count": 128,
   "metadata": {},
   "outputs": [],
   "source": [
    "ip = []\n",
    "f = open('./2020/3/example.txt','r')\n",
    "for line in f:\n",
    "    ip.append(list(line.rstrip('\\n')))\n",
    "f.close()\n"
   ]
  },
  {
   "cell_type": "code",
   "execution_count": 133,
   "metadata": {},
   "outputs": [],
   "source": [
    "max_d= len(ip)\n",
    "max_r = len(ip[0])"
   ]
  },
  {
   "cell_type": "code",
   "execution_count": 143,
   "metadata": {},
   "outputs": [
    {
     "data": {
      "text/plain": [
       "4"
      ]
     },
     "execution_count": 143,
     "metadata": {},
     "output_type": "execute_result"
    }
   ],
   "source": [
    "math.ceil(11/10 * 3)"
   ]
  },
  {
   "cell_type": "code",
   "execution_count": 145,
   "metadata": {},
   "outputs": [
    {
     "name": "stdout",
     "output_type": "stream",
     "text": [
      "3\n"
     ]
    }
   ],
   "source": [
    "ip_expanded = []\n",
    "r=3\n",
    "d=1\n",
    "repeat_factor = math.ceil((max_d/max_r) * ( r / d ))\n",
    "print(repeat_factor)\n",
    "for elem in ip:\n",
    "    ip_expanded.append(elem * repeat_factor)"
   ]
  },
  {
   "cell_type": "code",
   "execution_count": 146,
   "metadata": {},
   "outputs": [
    {
     "data": {
      "text/plain": [
       "(11, 33)"
      ]
     },
     "execution_count": 146,
     "metadata": {},
     "output_type": "execute_result"
    }
   ],
   "source": [
    "len(ip_expanded),len(ip_expanded[0])"
   ]
  },
  {
   "cell_type": "code",
   "execution_count": null,
   "metadata": {},
   "outputs": [],
   "source": []
  },
  {
   "cell_type": "code",
   "execution_count": 47,
   "metadata": {},
   "outputs": [],
   "source": []
  },
  {
   "cell_type": "code",
   "execution_count": 99,
   "metadata": {},
   "outputs": [],
   "source": []
  },
  {
   "cell_type": "code",
   "execution_count": 102,
   "metadata": {},
   "outputs": [
    {
     "data": {
      "text/plain": [
       "(323, 31)"
      ]
     },
     "execution_count": 102,
     "metadata": {},
     "output_type": "execute_result"
    }
   ],
   "source": [
    "#ip \n",
    "len(ip), len(ip[0])"
   ]
  },
  {
   "cell_type": "code",
   "execution_count": 111,
   "metadata": {},
   "outputs": [
    {
     "data": {
      "text/plain": [
       "(10, 1023)"
      ]
     },
     "execution_count": 111,
     "metadata": {},
     "output_type": "execute_result"
    }
   ],
   "source": [
    "round(323 / 31), 31*11*3"
   ]
  },
  {
   "cell_type": "code",
   "execution_count": 147,
   "metadata": {},
   "outputs": [],
   "source": []
  },
  {
   "cell_type": "code",
   "execution_count": 149,
   "metadata": {},
   "outputs": [
    {
     "data": {
      "text/plain": [
       "1"
      ]
     },
     "execution_count": 149,
     "metadata": {},
     "output_type": "execute_result"
    }
   ],
   "source": [
    "slopes[0][1]"
   ]
  },
  {
   "cell_type": "code",
   "execution_count": 155,
   "metadata": {},
   "outputs": [],
   "source": [
    "ip = []\n",
    "f = open('./2020/3/example.txt','r')\n",
    "for line in f:\n",
    "    ip.append(list(line.rstrip('\\n')))\n",
    "f.close()\n"
   ]
  },
  {
   "cell_type": "code",
   "execution_count": 159,
   "metadata": {},
   "outputs": [],
   "source": [
    "ip = []\n",
    "f = open('./2020/3/input.txt','r')\n",
    "for line in f:\n",
    "    ip.append(list(line.rstrip('\\n')))\n",
    "f.close()\n"
   ]
  },
  {
   "cell_type": "code",
   "execution_count": 160,
   "metadata": {},
   "outputs": [
    {
     "name": "stdout",
     "output_type": "stream",
     "text": [
      "84\n",
      "289\n",
      "89\n",
      "71\n",
      "36\n",
      "5522401584\n"
     ]
    }
   ],
   "source": [
    "slopes =[\n",
    "    (1,1),(3,1),(5,1),(7,1),(1,2)\n",
    "]\n",
    "# slopes =[\n",
    "#   (3,1)\n",
    "# ]\n",
    "num_trees = []\n",
    "max_r = len(ip[0])\n",
    "max_d= len(ip)\n",
    "for slope in slopes:\n",
    "    r = slope[0]\n",
    "    d = slope[1]\n",
    "#     r = 3\n",
    "#     d = 1\n",
    "#     repeat_pattern = (round(len(ip)/len(ip[0])) + 1)* r\n",
    "    repeat_factor = math.ceil((max_d/max_r) * ( r / d ))\n",
    "#     print(repeat_pattern)\n",
    "    ip_expanded = []\n",
    "    for elem in ip:\n",
    "        ip_expanded.append(elem * (repeat_factor))\n",
    "    max_d_expanded = len(ip_expanded)\n",
    "# print(max_d)\n",
    "    pt_x=0\n",
    "    pt_y=0\n",
    "    count = 0\n",
    "    while(pt_x <= max_d_expanded-1):\n",
    "#     print(pt_x, pt_y)\n",
    "        if (ip_expanded[pt_x][pt_y] == '#' ):\n",
    "            count = count + 1\n",
    "        pt_x = pt_x + d\n",
    "        pt_y = pt_y + r\n",
    "    num_trees.append(count)\n",
    "    print(count)\n",
    "print(np.prod(num_trees))"
   ]
  },
  {
   "cell_type": "code",
   "execution_count": null,
   "metadata": {},
   "outputs": [],
   "source": []
  },
  {
   "cell_type": "code",
   "execution_count": 110,
   "metadata": {},
   "outputs": [
    {
     "data": {
      "text/plain": [
       "1023"
      ]
     },
     "execution_count": 110,
     "metadata": {},
     "output_type": "execute_result"
    }
   ],
   "source": [
    "len(ip_expanded[0])"
   ]
  },
  {
   "cell_type": "code",
   "execution_count": 114,
   "metadata": {},
   "outputs": [
    {
     "name": "stdout",
     "output_type": "stream",
     "text": [
      "289\n"
     ]
    }
   ],
   "source": []
  },
  {
   "cell_type": "code",
   "execution_count": 123,
   "metadata": {},
   "outputs": [
    {
     "data": {
      "text/plain": [
       "72"
      ]
     },
     "execution_count": 123,
     "metadata": {},
     "output_type": "execute_result"
    }
   ],
   "source": [
    "l=[2,4,9]\n",
    "sum(l)\n",
    "np.prod(l)"
   ]
  },
  {
   "cell_type": "code",
   "execution_count": null,
   "metadata": {},
   "outputs": [],
   "source": [
    "--- Day 4: Passport Processing ---\n",
    "You arrive at the airport only to realize that \n",
    "you grabbed your North Pole Credentials instead of your passport. \n",
    "While these documents are extremely similar, \n",
    "North Pole Credentials aren't issued by a country and \n",
    "therefore aren't actually valid documentation for travel \n",
    "in most of the world.\n",
    "\n",
    "It seems like you're not the only one having problems, \n",
    "though; a very long line has formed for the automatic \n",
    "passport scanners, and the delay could upset your travel itinerary.\n",
    "\n",
    "Due to some questionable network security, \n",
    "you realize you might be able to solve both of \n",
    "these problems at the same time.\n",
    "\n",
    "The automatic passport scanners are slow because \n",
    "they're having trouble detecting which passports have all required \n",
    "fields. The expected fields are as follows:\n",
    "\n",
    "byr (Birth Year)\n",
    "iyr (Issue Year)\n",
    "eyr (Expiration Year)\n",
    "hgt (Height)\n",
    "hcl (Hair Color)\n",
    "ecl (Eye Color)\n",
    "pid (Passport ID)\n",
    "cid (Country ID)\n",
    "Passport data is validated in batch files (your puzzle input). \n",
    "Each passport is represented as a sequence of key:value pairs \n",
    "separated by spaces or newlines. \n",
    "Passports are separated by blank lines.\n",
    "\n",
    "Here is an example batch file containing four passports:\n",
    "\n",
    "ecl:gry pid:860033327 eyr:2020 hcl:#fffffd\n",
    "byr:1937 iyr:2017 cid:147 hgt:183cm\n",
    "\n",
    "iyr:2013 ecl:amb cid:350 eyr:2023 pid:028048884\n",
    "hcl:#cfa07d byr:1929\n",
    "\n",
    "hcl:#ae17e1 iyr:2013\n",
    "eyr:2024\n",
    "ecl:brn pid:760753108 byr:1931\n",
    "hgt:179cm\n",
    "\n",
    "hcl:#cfa07d eyr:2025 pid:166559648\n",
    "iyr:2011 ecl:brn hgt:59in\n",
    "            \n",
    "The first passport is valid - \n",
    "all eight fields are present. \n",
    "\n",
    "The second passport is invalid - \n",
    "it is missing hgt (the Height field).\n",
    "\n",
    "The third passport is interesting; \n",
    "the only missing field is cid, so it looks like data from North Pole \n",
    "Credentials, not a passport at all! Surely, \n",
    "nobody would mind if you made the system temporarily ignore missing \n",
    "cid fields. Treat this \"passport\" as valid.\n",
    "\n",
    "The fourth passport is missing two fields, cid and byr. \n",
    "Missing cid is fine, but missing any other field is not, \n",
    "so this passport is invalid.\n",
    "\n",
    "According to the above rules, \n",
    "your improved system would report 2 valid passports.\n",
    "\n",
    "Count the number of valid passports - those that have \n",
    "all required fields. \n",
    "Treat cid as optional. \n",
    "In your batch file, how many passports are valid?"
   ]
  },
  {
   "cell_type": "code",
   "execution_count": 132,
   "metadata": {},
   "outputs": [],
   "source": [
    "file_path = \"./2020/4/example.txt\"\n",
    "f = open(file_path,'r')\n",
    "contents = f.readlines()\n",
    "f.close()"
   ]
  },
  {
   "cell_type": "code",
   "execution_count": 95,
   "metadata": {},
   "outputs": [],
   "source": [
    "file_path = \"./2020/4/input.txt\"\n",
    "f = open(file_path,'r')\n",
    "contents = f.readlines()\n",
    "f.close()"
   ]
  },
  {
   "cell_type": "code",
   "execution_count": 133,
   "metadata": {},
   "outputs": [],
   "source": [
    "l = []\n",
    "sub_l = []\n",
    "for elem in contents:\n",
    "    if elem == '\\n':\n",
    "        l.append(sub_l)\n",
    "        sub_l = []\n",
    "    else:\n",
    "        sub_l.append(elem)\n",
    "l.append(sub_l)      \n",
    "# l"
   ]
  },
  {
   "cell_type": "code",
   "execution_count": 134,
   "metadata": {},
   "outputs": [
    {
     "data": {
      "text/plain": [
       "4"
      ]
     },
     "execution_count": 134,
     "metadata": {},
     "output_type": "execute_result"
    }
   ],
   "source": [
    "new_l = []\n",
    "for elem in l:\n",
    "    s = \"\".join(elem)\n",
    "    s = s.replace(\"\\n\",\" \")\n",
    "    s = s.strip()\n",
    "    elem_l = s.split(\" \")\n",
    "    d = {}\n",
    "    for elem in elem_l:\n",
    "        kv=elem.split(':')\n",
    "        d[kv[0]] = kv[1]\n",
    "    new_l.append(d)\n",
    "len(new_l)"
   ]
  },
  {
   "cell_type": "code",
   "execution_count": 99,
   "metadata": {},
   "outputs": [],
   "source": [
    "# new_l"
   ]
  },
  {
   "cell_type": "code",
   "execution_count": 135,
   "metadata": {},
   "outputs": [],
   "source": [
    "list_chk_1=['byr','cid','iyr' ,'eyr' ,'hgt' ,'hcl' ,'ecl' ,'pid' ]\n",
    "list_chk_2=['byr','iyr' ,'eyr' ,'hgt' ,'hcl' ,'ecl' ,'pid' ]\n",
    "list_chk_1 = sorted(list_chk_1)\n",
    "list_chk_2 = sorted(list_chk_2)\n"
   ]
  },
  {
   "cell_type": "code",
   "execution_count": 89,
   "metadata": {},
   "outputs": [
    {
     "name": "stdout",
     "output_type": "stream",
     "text": [
      "['byr', 'ecl', 'eyr', 'hcl', 'hgt', 'iyr', 'pid']\n"
     ]
    },
    {
     "data": {
      "text/plain": [
       "['byr', 'cid', 'ecl', 'eyr', 'hcl', 'hgt', 'iyr', 'pid']"
      ]
     },
     "execution_count": 89,
     "metadata": {},
     "output_type": "execute_result"
    }
   ],
   "source": [
    "ll = list(new_l[2].keys())\n",
    "print(sorted(ll))\n",
    "list_chk_1"
   ]
  },
  {
   "cell_type": "code",
   "execution_count": 91,
   "metadata": {},
   "outputs": [
    {
     "data": {
      "text/plain": [
       "True"
      ]
     },
     "execution_count": 91,
     "metadata": {},
     "output_type": "execute_result"
    }
   ],
   "source": [
    "sorted(list_chk_2) == sorted(ll)"
   ]
  },
  {
   "cell_type": "code",
   "execution_count": null,
   "metadata": {},
   "outputs": [],
   "source": []
  },
  {
   "cell_type": "code",
   "execution_count": 136,
   "metadata": {},
   "outputs": [
    {
     "name": "stdout",
     "output_type": "stream",
     "text": [
      "2\n"
     ]
    }
   ],
   "source": [
    "# for valid fields\n",
    "cnt = 0\n",
    "for passport in new_l:\n",
    "    ll = sorted(list(passport.keys()))\n",
    "    if  (ll == list_chk_1) or (ll == list_chk_2):\n",
    "        cnt = cnt + 1\n",
    "print(cnt)"
   ]
  },
  {
   "cell_type": "code",
   "execution_count": null,
   "metadata": {},
   "outputs": [],
   "source": [
    "--- Part Two ---\n",
    "The line is moving more quickly now, \n",
    "but you overhear airport security talking about how passports \n",
    "with invalid data are getting through. Better add some data validation, quick!\n",
    "\n",
    "You can continue to ignore the cid field, \n",
    "but each other field has strict rules about what values are \n",
    "valid for automatic validation:\n",
    "\n",
    "byr (Birth Year) - four digits; at least 1920 and at most 2002.\n",
    "iyr (Issue Year) - four digits; at least 2010 and at most 2020.\n",
    "eyr (Expiration Year) - four digits; at least 2020 and at most 2030.\n",
    "hgt (Height) - a number followed by either cm or in:\n",
    "If cm, the number must be at least 150 and at most 193.\n",
    "If in, the number must be at least 59 and at most 76.\n",
    "hcl (Hair Color) - a # followed by exactly six characters 0-9 or a-f.\n",
    "ecl (Eye Color) - exactly one of: amb blu brn gry grn hzl oth.\n",
    "pid (Passport ID) - a nine-digit number, including leading zeroes.\n",
    "cid (Country ID) - ignored, missing or not.\n",
    "Your job is to count the passports where all required fields are both present \n",
    "and valid according to the above rules. Here are some example values:\n",
    "\n",
    "byr valid:   2002\n",
    "byr invalid: 2003\n",
    "\n",
    "hgt valid:   60in\n",
    "hgt valid:   190cm\n",
    "hgt invalid: 190in\n",
    "hgt invalid: 190\n",
    "\n",
    "hcl valid:   #123abc\n",
    "hcl invalid: #123abz\n",
    "hcl invalid: 123abc\n",
    "\n",
    "ecl valid:   brn\n",
    "ecl invalid: wat\n",
    "\n",
    "pid valid:   000000001\n",
    "pid invalid: 0123456789\n",
    "Here are some invalid passports:\n",
    "\n",
    "eyr:1972 cid:100\n",
    "hcl:#18171d ecl:amb hgt:170 pid:186cm iyr:2018 byr:1926\n",
    "\n",
    "iyr:2019\n",
    "hcl:#602927 eyr:1967 hgt:170cm\n",
    "ecl:grn pid:012533040 byr:1946\n",
    "\n",
    "hcl:dab227 iyr:2012\n",
    "ecl:brn hgt:182cm pid:021572410 eyr:2020 byr:1992 cid:277\n",
    "\n",
    "hgt:59cm ecl:zzz\n",
    "eyr:2038 hcl:74454a iyr:2023\n",
    "pid:3556412378 byr:2007\n",
    "Here are some valid passports:\n",
    "\n",
    "pid:087499704 hgt:74in ecl:grn iyr:2012 eyr:2030 byr:1980\n",
    "hcl:#623a2f\n",
    "\n",
    "eyr:2029 ecl:blu cid:129 byr:1989\n",
    "iyr:2014 pid:896056539 hcl:#a97842 hgt:165cm\n",
    "\n",
    "hcl:#888785\n",
    "hgt:164cm byr:2001 iyr:2015 cid:88\n",
    "pid:545766238 ecl:hzl\n",
    "eyr:2022\n",
    "\n",
    "iyr:2010 hgt:158cm hcl:#b6652a ecl:blu byr:1944 eyr:2021 pid:093154719\n",
    "Count the number of valid passports - those that have all required fields \n",
    "and valid values. Continue to treat cid as optional. \n",
    "In your batch file, \n",
    "how many passports are valid?"
   ]
  },
  {
   "cell_type": "code",
   "execution_count": null,
   "metadata": {},
   "outputs": [],
   "source": [
    "byr (Birth Year) - four digits; at least 1920 and at most 2002.\n",
    "iyr (Issue Year) - four digits; at least 2010 and at most 2020.\n",
    "eyr (Expiration Year) - four digits; at least 2020 and at most 2030.\n",
    "hgt (Height) - a number followed by either cm or in:\n",
    "If cm, the number must be at least 150 and at most 193.\n",
    "If in, the number must be at least 59 and at most 76.\n",
    "hcl (Hair Color) - a # followed by exactly six characters 0-9 or a-f.\n",
    "ecl (Eye Color) - exactly one of: amb blu brn gry grn hzl oth.\n",
    "pid (Passport ID) - a nine-digit number, including leading zeroes.\n",
    "cid (Country ID) - ignored, missing or not.\n",
    "Your job is to count the passports where all required fields are both present \n",
    "and valid according to the above rules. Here are some example values:"
   ]
  },
  {
   "cell_type": "code",
   "execution_count": 163,
   "metadata": {},
   "outputs": [],
   "source": [
    "file_path = \"./2020/4/example_2.txt\"\n",
    "file_path = \"./2020/4/input.txt\"\n",
    "f = open(file_path,'r')\n",
    "contents = f.readlines()\n",
    "f.close()"
   ]
  },
  {
   "cell_type": "code",
   "execution_count": 164,
   "metadata": {},
   "outputs": [],
   "source": [
    "l = []\n",
    "sub_l = []\n",
    "for elem in contents:\n",
    "    if elem == '\\n':\n",
    "        l.append(sub_l)\n",
    "        sub_l = []\n",
    "    else:\n",
    "        sub_l.append(elem)\n",
    "l.append(sub_l)      \n",
    "# l"
   ]
  },
  {
   "cell_type": "code",
   "execution_count": 165,
   "metadata": {},
   "outputs": [
    {
     "data": {
      "text/plain": [
       "280"
      ]
     },
     "execution_count": 165,
     "metadata": {},
     "output_type": "execute_result"
    }
   ],
   "source": [
    "new_l = []\n",
    "for elem in l:\n",
    "    s = \"\".join(elem)\n",
    "    s = s.replace(\"\\n\",\" \")\n",
    "    s = s.strip()\n",
    "    elem_l = s.split(\" \")\n",
    "    d = {}\n",
    "    for elem in elem_l:\n",
    "        kv=elem.split(':')\n",
    "        d[kv[0]] = kv[1]\n",
    "    new_l.append(d)\n",
    "len(new_l)"
   ]
  },
  {
   "cell_type": "code",
   "execution_count": 166,
   "metadata": {},
   "outputs": [],
   "source": [
    "list_chk_1 = ['byr','iyr' ,'eyr' ,'hgt' ,'hcl' ,'ecl' ,'pid' ]\n",
    "list_chk_2 = list_chk_1 + ['cid']\n",
    "list_chk_1 = sorted(list_chk_1)\n",
    "list_chk_2 = sorted(list_chk_2)"
   ]
  },
  {
   "cell_type": "code",
   "execution_count": 167,
   "metadata": {},
   "outputs": [
    {
     "name": "stdout",
     "output_type": "stream",
     "text": [
      "137\n"
     ]
    }
   ],
   "source": [
    "#validity chk\n",
    "def chk_byr(byr):\n",
    "    if (len(byr) == 4) and  (byr.isdigit()) :\n",
    "          if (int(byr) >= 1920) and (int(byr) <=2002 ) :\n",
    "                return True\n",
    "    return False\n",
    "def chk_iyr(iyr):\n",
    "    if (len(iyr) == 4) and  (iyr.isdigit()) :\n",
    "          if (int(iyr) >= 2010) and (int(iyr) <=2020 ) :\n",
    "                return True\n",
    "    return False\n",
    "def chk_eyr(eyr):\n",
    "    if (len(eyr) == 4) and  (eyr.isdigit()) :\n",
    "        if (int(eyr) >= 2020) and (int(eyr) <=2030 ) :\n",
    "                return True\n",
    "    return False\n",
    "def chk_hgt(hgt):\n",
    "    # hgt (Height) - a number followed by either cm or in:\n",
    "    # If cm, the number must be at least 150 and at most 193.\n",
    "    # If in, the number must be at least 59 and at most 76.\n",
    "    if (hgt[:-2].isdigit() and (hgt[-2:] == 'cm' or hgt[-2:]=='in')):\n",
    "        if hgt[-2:] == 'cm':\n",
    "            if (int(hgt[:-2]) >= 150) and (int(hgt[:-2]) <= 193) :\n",
    "                return True\n",
    "        elif hgt[-2:] == 'in':\n",
    "            if (int(hgt[:-2]) >= 59) and (int(hgt[:-2]) <= 76) :\n",
    "                return True\n",
    "    return False\n",
    "\n",
    "def chk_hcl(hcl):\n",
    "    # hcl (Hair Color) - a # followed by exactly six characters 0-9 or a-f.\n",
    "    if ( hcl[0] == '#' and\n",
    "         hcl[1:].isalnum() and \n",
    "        len(hcl[1:]) == 6) :\n",
    "        return True\n",
    "    return False\n",
    "\n",
    "def chk_ecl(ecl):\n",
    "    # ecl (Eye Color) - exactly one of: amb blu brn gry grn hzl oth.\n",
    "    list_ecl = ['amb','blu', 'brn', 'gry' ,'grn' ,'hzl', 'oth']\n",
    "    if ecl in list_ecl:\n",
    "        return True\n",
    "    return False\n",
    "\n",
    "def chk_pid(pid):\n",
    "    # pid (Passport ID) - a nine-digit number, including leading zeroes.\n",
    "    if (pid.isdigit() and len(pid) == 9):\n",
    "        return True\n",
    "    return False\n",
    "\n",
    "cnt = 0\n",
    "for passport in new_l:\n",
    "    ll = sorted(list(passport.keys()))\n",
    "    if  (ll == list_chk_1) or (ll == list_chk_2):\n",
    "        if (chk_byr(passport['byr']) and \n",
    "            chk_iyr(passport['iyr']) and\n",
    "            chk_eyr(passport['eyr']) and\n",
    "            chk_hgt(passport['hgt']) and\n",
    "            chk_hcl(passport['hcl']) and\n",
    "            chk_ecl(passport['ecl']) and\n",
    "            chk_pid(passport['pid']) \n",
    "           ):\n",
    "#                 print(passport)\n",
    "                cnt = cnt + 1\n",
    "print(cnt)"
   ]
  },
  {
   "cell_type": "code",
   "execution_count": null,
   "metadata": {},
   "outputs": [],
   "source": []
  },
  {
   "cell_type": "code",
   "execution_count": 125,
   "metadata": {},
   "outputs": [
    {
     "data": {
      "text/plain": [
       "False"
      ]
     },
     "execution_count": 125,
     "metadata": {},
     "output_type": "execute_result"
    }
   ],
   "source": [
    "t = '83i'\n",
    "#t[1:].isalnum() and len(t[1:]) == 6\n",
    "t[:-2].isdigit() and (t[-2:] == 'cm' or t[-2:]=='in')\n",
    "#ecl:gry pid:860033327 eyr:2020 hcl:#fffffd\n",
    "#byr:1937 iyr:2017 cid:147 hgt:183cm"
   ]
  },
  {
   "cell_type": "code",
   "execution_count": 127,
   "metadata": {},
   "outputs": [
    {
     "data": {
      "text/plain": [
       "False"
      ]
     },
     "execution_count": 127,
     "metadata": {},
     "output_type": "execute_result"
    }
   ],
   "source": [
    "list_ecl = ['amb','blu', 'brn', 'gry' ,'grn' ,'hzl', 'oth']\n",
    "ecl = 'goy'\n",
    "ecl in list_ecl"
   ]
  },
  {
   "cell_type": "code",
   "execution_count": 131,
   "metadata": {},
   "outputs": [
    {
     "data": {
      "text/plain": [
       "True"
      ]
     },
     "execution_count": 131,
     "metadata": {},
     "output_type": "execute_result"
    }
   ],
   "source": [
    "pid = '003332789'\n",
    "(pid.isdigit() and len(pid) == 9)"
   ]
  },
  {
   "cell_type": "code",
   "execution_count": null,
   "metadata": {},
   "outputs": [],
   "source": [
    "--- Day 5: Binary Boarding ---\n",
    "You board your plane only to discover a new problem: \n",
    "    you dropped your boarding pass! \n",
    "You aren't sure which seat is yours, \n",
    "and all of the flight attendants are busy with the flood of people \n",
    "that suddenly made it through passport control.\n",
    "\n",
    "You write a quick program to use your phone's \n",
    "camera to scan all of the nearby boarding passes (your puzzle input); \n",
    "perhaps you can find your seat through process of elimination.\n",
    "\n",
    "Instead of zones or groups, this airline uses binary space partitioning \n",
    "to seat people. \n",
    "A seat might be specified like FBFBBFFRLR, \n",
    "where F means \"front\", B means \"back\", L means \"left\", and R means \"right\".\n",
    "\n",
    "The first 7 characters will either be F or B; \n",
    "these specify exactly one of the 128 rows on the plane (numbered 0 through 127). \n",
    "Each letter tells you which half of a region the given seat is in. Start with the whole list of rows; the first letter indicates whether the seat is in the front (0 through 63) or the back (64 through 127). The next letter indicates which half of that region the seat is in, and so on until you're left with exactly one row.\n",
    "\n",
    "For example, consider just the first seven characters of FBFBBFFRLR:\n",
    "\n",
    "Start by considering the whole range, rows 0 through 127.\n",
    "F means to take the lower half, keeping rows 0 through 63.\n",
    "B means to take the upper half, keeping rows 32 through 63.\n",
    "F means to take the lower half, keeping rows 32 through 47.\n",
    "B means to take the upper half, keeping rows 40 through 47.\n",
    "B keeps rows 44 through 47.\n",
    "F keeps rows 44 through 45.\n",
    "The final F keeps the lower of the two, row 44.\n",
    "The last three characters will be either L or R; these specify exactly one of the 8 columns of seats on the plane (numbered 0 through 7). The same process as above proceeds again, this time with only three steps. L means to keep the lower half, while R means to keep the upper half.\n",
    "\n",
    "For example, consider just the last 3 characters of FBFBBFFRLR:\n",
    "\n",
    "Start by considering the whole range, columns 0 through 7.\n",
    "R means to take the upper half, keeping columns 4 through 7.\n",
    "L means to take the lower half, keeping columns 4 through 5.\n",
    "The final R keeps the upper of the two, column 5.\n",
    "So, decoding FBFBBFFRLR reveals that it is the seat at row 44, column 5.\n",
    "\n",
    "Every seat also has a unique seat ID: multiply the row by 8, then add the column. \n",
    "    In this example, the seat has ID 44 * 8 + 5 = 357.\n",
    "\n",
    "Here are some other boarding passes:\n",
    "\n",
    "BFFFBBFRRR: row 70, column 7, seat ID 567.\n",
    "FFFBBBFRRR: row 14, column 7, seat ID 119.\n",
    "BBFFBBFRLL: row 102, column 4, seat ID 820.\n",
    "As a sanity check, look through your list of boarding passes. \n",
    "What is the highest seat ID on a boarding pass?"
   ]
  },
  {
   "cell_type": "code",
   "execution_count": 183,
   "metadata": {},
   "outputs": [],
   "source": [
    "\n"
   ]
  },
  {
   "cell_type": "code",
   "execution_count": 218,
   "metadata": {},
   "outputs": [],
   "source": [
    "def get_col(s):\n",
    "    s= s.replace('R','1')\n",
    "    s = s.replace('L','0')\n",
    "    col = int(s,2)\n",
    "    return col\n",
    "\n",
    "def get_row(s):\n",
    "    s= s.replace('B','1')\n",
    "    s = s.replace('F','0')\n",
    "    row = int(s,2)\n",
    "    return row\n",
    "\n",
    "def get_seatID(row,col):\n",
    "    seat_id = (row * 8) + col\n",
    "#     print(f\"Row {row}, column {col}, seat ID {seat_id}\")\n",
    "    return seat_id\n",
    "\n",
    "def get_max_seatID(list_bpass):\n",
    "    list_seatid  = []\n",
    "    list_row_col = []\n",
    "    \n",
    "    for elem in list_bpass:\n",
    "        row = get_row(elem[:7])\n",
    "        col = get_col(elem[-3:])\n",
    "        seat_id = get_seatID(row,col)\n",
    "        list_row_col.append((row,col))\n",
    "        list_seatid.append(seat_id)\n",
    "    print(f\"The highest seat ID on a boarding pass is {max(list_seatid)}\")\n",
    "    return list_row_col"
   ]
  },
  {
   "cell_type": "code",
   "execution_count": 219,
   "metadata": {},
   "outputs": [],
   "source": [
    "file_path = \"./2020/5/example.txt\"\n",
    "file_path = \"./2020/5/input.txt\"\n",
    "\n",
    "bpass = []\n",
    "f = open(file_path,'r')\n",
    "for line in f:\n",
    "    bpass.append(line.rstrip('\\n'))\n",
    "f.close()\n",
    "#bpass"
   ]
  },
  {
   "cell_type": "code",
   "execution_count": 220,
   "metadata": {},
   "outputs": [
    {
     "name": "stdout",
     "output_type": "stream",
     "text": [
      "The highest seat ID on a boarding pass is 959\n"
     ]
    }
   ],
   "source": [
    "r_c = get_max_seatID(bpass)"
   ]
  },
  {
   "cell_type": "code",
   "execution_count": null,
   "metadata": {},
   "outputs": [],
   "source": [
    "--- Part Two ---\n",
    "Ding! The \"fasten seat belt\" signs have turned on. Time to find your seat.\n",
    "\n",
    "It's a completely full flight, \n",
    "so your seat should be the only missing boarding pass in your list. \n",
    "However, there's a catch: some of the seats at the very front and \n",
    "back of the plane don't exist on this aircraft, so they'll be missing from your list as well.\n",
    "\n",
    "Your seat wasn't at the very front or back, though; \n",
    "the seats with IDs +1 and -1 from yours will be in your list.\n",
    "\n",
    "What is the ID of your seat?\n",
    "\n",
    "Your puzzle answer was 527."
   ]
  },
  {
   "cell_type": "code",
   "execution_count": 222,
   "metadata": {},
   "outputs": [
    {
     "name": "stdout",
     "output_type": "stream",
     "text": [
      "[(0, 0), (0, 1), (0, 2), (0, 3), (0, 4), (0, 5), (0, 6), (0, 7), (1, 0), (1, 1), (1, 2), (1, 3), (1, 4), (1, 5), (1, 6), (1, 7), (2, 0), (2, 1), (2, 2), (2, 3), (2, 4), (2, 5), (2, 6), (2, 7), (3, 0), (3, 1), (3, 2), (3, 3), (3, 4), (3, 5), (3, 6), (3, 7), (4, 0), (4, 1), (4, 2), (4, 3), (4, 4), (4, 5), (4, 6), (4, 7), (5, 0), (5, 1), (5, 2), (5, 3), (5, 4), (5, 5), (5, 6), (5, 7), (6, 0), (6, 1), (6, 2), (6, 3), (6, 4), (6, 5), (6, 6), (6, 7), (7, 0), (7, 1), (7, 2), (7, 3), (7, 4), (7, 5), (7, 6), (7, 7), (8, 0), (8, 1), (8, 2), (8, 3), (8, 4), (8, 5), (8, 6), (8, 7), (9, 0), (9, 1), (9, 2), (9, 3), (9, 4), (9, 5), (65, 7), (120, 0), (120, 1), (120, 2), (120, 3), (120, 4), (120, 5), (120, 6), (120, 7), (121, 0), (121, 1), (121, 2), (121, 3), (121, 4), (121, 5), (121, 6), (121, 7), (122, 0), (122, 1), (122, 2), (122, 3), (122, 4), (122, 5), (122, 6), (122, 7), (123, 0), (123, 1), (123, 2), (123, 3), (123, 4), (123, 5), (123, 6), (123, 7), (124, 0), (124, 1), (124, 2), (124, 3), (124, 4), (124, 5), (124, 6), (124, 7), (125, 0), (125, 1), (125, 2), (125, 3), (125, 4), (125, 5), (125, 6), (125, 7), (126, 0), (126, 1), (126, 2), (126, 3), (126, 4), (126, 5), (126, 6), (126, 7)]\n"
     ]
    }
   ],
   "source": [
    "# for calculating\n",
    "l = []\n",
    "for i in range(127):\n",
    "    for j in range(8):\n",
    "        if((i,j) not in r_c):\n",
    "            l.append((i,j))\n",
    "\n",
    "print(l)"
   ]
  },
  {
   "cell_type": "code",
   "execution_count": 229,
   "metadata": {},
   "outputs": [
    {
     "name": "stdout",
     "output_type": "stream",
     "text": [
      "The highest seat ID on a boarding pass is 959\n",
      "My Seat id 527 for row 65, column 7\n"
     ]
    }
   ],
   "source": [
    "\n",
    "r_c = get_max_seatID(bpass)\n",
    "# for calculating\n",
    "l = []\n",
    "for i in range(127):\n",
    "    for j in range(8):\n",
    "        if((i,j) not in r_c):\n",
    "            seat_id = get_seatID(i,j)\n",
    "            if( seat_id <= 950 and seat_id >= 100):\n",
    "                print(f\"My Seat id {seat_id} for row {i}, column {j}\")\n",
    "#             l.append()\n",
    "#             l.append((i,j))\n",
    "# print(l)\n"
   ]
  },
  {
   "cell_type": "code",
   "execution_count": 221,
   "metadata": {},
   "outputs": [
    {
     "name": "stdout",
     "output_type": "stream",
     "text": [
      "[(0, 0), (0, 1), (0, 2), (0, 3), (0, 4), (0, 5), (0, 6), (0, 7)]\n",
      "[(1, 0), (1, 1), (1, 2), (1, 3), (1, 4), (1, 5), (1, 6), (1, 7)]\n",
      "[(2, 0), (2, 1), (2, 2), (2, 3), (2, 4), (2, 5), (2, 6), (2, 7)]\n",
      "[(3, 0), (3, 1), (3, 2), (3, 3), (3, 4), (3, 5), (3, 6), (3, 7)]\n",
      "[(4, 0), (4, 1), (4, 2), (4, 3), (4, 4), (4, 5), (4, 6), (4, 7)]\n",
      "[(5, 0), (5, 1), (5, 2), (5, 3), (5, 4), (5, 5), (5, 6), (5, 7)]\n",
      "[(6, 0), (6, 1), (6, 2), (6, 3), (6, 4), (6, 5), (6, 6), (6, 7)]\n",
      "[(7, 0), (7, 1), (7, 2), (7, 3), (7, 4), (7, 5), (7, 6), (7, 7)]\n",
      "[(8, 0), (8, 1), (8, 2), (8, 3), (8, 4), (8, 5), (8, 6), (8, 7)]\n",
      "[(9, 0), (9, 1), (9, 2), (9, 3), (9, 4), (9, 5), '  *  ', '  *  ']\n",
      "['  *  ', '  *  ', '  *  ', '  *  ', '  *  ', '  *  ', '  *  ', '  *  ']\n",
      "['  *  ', '  *  ', '  *  ', '  *  ', '  *  ', '  *  ', '  *  ', '  *  ']\n",
      "['  *  ', '  *  ', '  *  ', '  *  ', '  *  ', '  *  ', '  *  ', '  *  ']\n",
      "['  *  ', '  *  ', '  *  ', '  *  ', '  *  ', '  *  ', '  *  ', '  *  ']\n",
      "['  *  ', '  *  ', '  *  ', '  *  ', '  *  ', '  *  ', '  *  ', '  *  ']\n",
      "['  *  ', '  *  ', '  *  ', '  *  ', '  *  ', '  *  ', '  *  ', '  *  ']\n",
      "['  *  ', '  *  ', '  *  ', '  *  ', '  *  ', '  *  ', '  *  ', '  *  ']\n",
      "['  *  ', '  *  ', '  *  ', '  *  ', '  *  ', '  *  ', '  *  ', '  *  ']\n",
      "['  *  ', '  *  ', '  *  ', '  *  ', '  *  ', '  *  ', '  *  ', '  *  ']\n",
      "['  *  ', '  *  ', '  *  ', '  *  ', '  *  ', '  *  ', '  *  ', '  *  ']\n",
      "['  *  ', '  *  ', '  *  ', '  *  ', '  *  ', '  *  ', '  *  ', '  *  ']\n",
      "['  *  ', '  *  ', '  *  ', '  *  ', '  *  ', '  *  ', '  *  ', '  *  ']\n",
      "['  *  ', '  *  ', '  *  ', '  *  ', '  *  ', '  *  ', '  *  ', '  *  ']\n",
      "['  *  ', '  *  ', '  *  ', '  *  ', '  *  ', '  *  ', '  *  ', '  *  ']\n",
      "['  *  ', '  *  ', '  *  ', '  *  ', '  *  ', '  *  ', '  *  ', '  *  ']\n",
      "['  *  ', '  *  ', '  *  ', '  *  ', '  *  ', '  *  ', '  *  ', '  *  ']\n",
      "['  *  ', '  *  ', '  *  ', '  *  ', '  *  ', '  *  ', '  *  ', '  *  ']\n",
      "['  *  ', '  *  ', '  *  ', '  *  ', '  *  ', '  *  ', '  *  ', '  *  ']\n",
      "['  *  ', '  *  ', '  *  ', '  *  ', '  *  ', '  *  ', '  *  ', '  *  ']\n",
      "['  *  ', '  *  ', '  *  ', '  *  ', '  *  ', '  *  ', '  *  ', '  *  ']\n",
      "['  *  ', '  *  ', '  *  ', '  *  ', '  *  ', '  *  ', '  *  ', '  *  ']\n",
      "['  *  ', '  *  ', '  *  ', '  *  ', '  *  ', '  *  ', '  *  ', '  *  ']\n",
      "['  *  ', '  *  ', '  *  ', '  *  ', '  *  ', '  *  ', '  *  ', '  *  ']\n",
      "['  *  ', '  *  ', '  *  ', '  *  ', '  *  ', '  *  ', '  *  ', '  *  ']\n",
      "['  *  ', '  *  ', '  *  ', '  *  ', '  *  ', '  *  ', '  *  ', '  *  ']\n",
      "['  *  ', '  *  ', '  *  ', '  *  ', '  *  ', '  *  ', '  *  ', '  *  ']\n",
      "['  *  ', '  *  ', '  *  ', '  *  ', '  *  ', '  *  ', '  *  ', '  *  ']\n",
      "['  *  ', '  *  ', '  *  ', '  *  ', '  *  ', '  *  ', '  *  ', '  *  ']\n",
      "['  *  ', '  *  ', '  *  ', '  *  ', '  *  ', '  *  ', '  *  ', '  *  ']\n",
      "['  *  ', '  *  ', '  *  ', '  *  ', '  *  ', '  *  ', '  *  ', '  *  ']\n",
      "['  *  ', '  *  ', '  *  ', '  *  ', '  *  ', '  *  ', '  *  ', '  *  ']\n",
      "['  *  ', '  *  ', '  *  ', '  *  ', '  *  ', '  *  ', '  *  ', '  *  ']\n",
      "['  *  ', '  *  ', '  *  ', '  *  ', '  *  ', '  *  ', '  *  ', '  *  ']\n",
      "['  *  ', '  *  ', '  *  ', '  *  ', '  *  ', '  *  ', '  *  ', '  *  ']\n",
      "['  *  ', '  *  ', '  *  ', '  *  ', '  *  ', '  *  ', '  *  ', '  *  ']\n",
      "['  *  ', '  *  ', '  *  ', '  *  ', '  *  ', '  *  ', '  *  ', '  *  ']\n",
      "['  *  ', '  *  ', '  *  ', '  *  ', '  *  ', '  *  ', '  *  ', '  *  ']\n",
      "['  *  ', '  *  ', '  *  ', '  *  ', '  *  ', '  *  ', '  *  ', '  *  ']\n",
      "['  *  ', '  *  ', '  *  ', '  *  ', '  *  ', '  *  ', '  *  ', '  *  ']\n",
      "['  *  ', '  *  ', '  *  ', '  *  ', '  *  ', '  *  ', '  *  ', '  *  ']\n",
      "['  *  ', '  *  ', '  *  ', '  *  ', '  *  ', '  *  ', '  *  ', '  *  ']\n",
      "['  *  ', '  *  ', '  *  ', '  *  ', '  *  ', '  *  ', '  *  ', '  *  ']\n",
      "['  *  ', '  *  ', '  *  ', '  *  ', '  *  ', '  *  ', '  *  ', '  *  ']\n",
      "['  *  ', '  *  ', '  *  ', '  *  ', '  *  ', '  *  ', '  *  ', '  *  ']\n",
      "['  *  ', '  *  ', '  *  ', '  *  ', '  *  ', '  *  ', '  *  ', '  *  ']\n",
      "['  *  ', '  *  ', '  *  ', '  *  ', '  *  ', '  *  ', '  *  ', '  *  ']\n",
      "['  *  ', '  *  ', '  *  ', '  *  ', '  *  ', '  *  ', '  *  ', '  *  ']\n",
      "['  *  ', '  *  ', '  *  ', '  *  ', '  *  ', '  *  ', '  *  ', '  *  ']\n",
      "['  *  ', '  *  ', '  *  ', '  *  ', '  *  ', '  *  ', '  *  ', '  *  ']\n",
      "['  *  ', '  *  ', '  *  ', '  *  ', '  *  ', '  *  ', '  *  ', '  *  ']\n",
      "['  *  ', '  *  ', '  *  ', '  *  ', '  *  ', '  *  ', '  *  ', '  *  ']\n",
      "['  *  ', '  *  ', '  *  ', '  *  ', '  *  ', '  *  ', '  *  ', '  *  ']\n",
      "['  *  ', '  *  ', '  *  ', '  *  ', '  *  ', '  *  ', '  *  ', '  *  ']\n",
      "['  *  ', '  *  ', '  *  ', '  *  ', '  *  ', '  *  ', '  *  ', '  *  ']\n",
      "['  *  ', '  *  ', '  *  ', '  *  ', '  *  ', '  *  ', '  *  ', '  *  ']\n",
      "['  *  ', '  *  ', '  *  ', '  *  ', '  *  ', '  *  ', '  *  ', (65, 7)]\n",
      "['  *  ', '  *  ', '  *  ', '  *  ', '  *  ', '  *  ', '  *  ', '  *  ']\n",
      "['  *  ', '  *  ', '  *  ', '  *  ', '  *  ', '  *  ', '  *  ', '  *  ']\n",
      "['  *  ', '  *  ', '  *  ', '  *  ', '  *  ', '  *  ', '  *  ', '  *  ']\n",
      "['  *  ', '  *  ', '  *  ', '  *  ', '  *  ', '  *  ', '  *  ', '  *  ']\n",
      "['  *  ', '  *  ', '  *  ', '  *  ', '  *  ', '  *  ', '  *  ', '  *  ']\n",
      "['  *  ', '  *  ', '  *  ', '  *  ', '  *  ', '  *  ', '  *  ', '  *  ']\n",
      "['  *  ', '  *  ', '  *  ', '  *  ', '  *  ', '  *  ', '  *  ', '  *  ']\n",
      "['  *  ', '  *  ', '  *  ', '  *  ', '  *  ', '  *  ', '  *  ', '  *  ']\n",
      "['  *  ', '  *  ', '  *  ', '  *  ', '  *  ', '  *  ', '  *  ', '  *  ']\n",
      "['  *  ', '  *  ', '  *  ', '  *  ', '  *  ', '  *  ', '  *  ', '  *  ']\n",
      "['  *  ', '  *  ', '  *  ', '  *  ', '  *  ', '  *  ', '  *  ', '  *  ']\n",
      "['  *  ', '  *  ', '  *  ', '  *  ', '  *  ', '  *  ', '  *  ', '  *  ']\n",
      "['  *  ', '  *  ', '  *  ', '  *  ', '  *  ', '  *  ', '  *  ', '  *  ']\n",
      "['  *  ', '  *  ', '  *  ', '  *  ', '  *  ', '  *  ', '  *  ', '  *  ']\n",
      "['  *  ', '  *  ', '  *  ', '  *  ', '  *  ', '  *  ', '  *  ', '  *  ']\n",
      "['  *  ', '  *  ', '  *  ', '  *  ', '  *  ', '  *  ', '  *  ', '  *  ']\n",
      "['  *  ', '  *  ', '  *  ', '  *  ', '  *  ', '  *  ', '  *  ', '  *  ']\n",
      "['  *  ', '  *  ', '  *  ', '  *  ', '  *  ', '  *  ', '  *  ', '  *  ']\n",
      "['  *  ', '  *  ', '  *  ', '  *  ', '  *  ', '  *  ', '  *  ', '  *  ']\n",
      "['  *  ', '  *  ', '  *  ', '  *  ', '  *  ', '  *  ', '  *  ', '  *  ']\n",
      "['  *  ', '  *  ', '  *  ', '  *  ', '  *  ', '  *  ', '  *  ', '  *  ']\n",
      "['  *  ', '  *  ', '  *  ', '  *  ', '  *  ', '  *  ', '  *  ', '  *  ']\n",
      "['  *  ', '  *  ', '  *  ', '  *  ', '  *  ', '  *  ', '  *  ', '  *  ']\n",
      "['  *  ', '  *  ', '  *  ', '  *  ', '  *  ', '  *  ', '  *  ', '  *  ']\n",
      "['  *  ', '  *  ', '  *  ', '  *  ', '  *  ', '  *  ', '  *  ', '  *  ']\n",
      "['  *  ', '  *  ', '  *  ', '  *  ', '  *  ', '  *  ', '  *  ', '  *  ']\n",
      "['  *  ', '  *  ', '  *  ', '  *  ', '  *  ', '  *  ', '  *  ', '  *  ']\n",
      "['  *  ', '  *  ', '  *  ', '  *  ', '  *  ', '  *  ', '  *  ', '  *  ']\n",
      "['  *  ', '  *  ', '  *  ', '  *  ', '  *  ', '  *  ', '  *  ', '  *  ']\n",
      "['  *  ', '  *  ', '  *  ', '  *  ', '  *  ', '  *  ', '  *  ', '  *  ']\n",
      "['  *  ', '  *  ', '  *  ', '  *  ', '  *  ', '  *  ', '  *  ', '  *  ']\n",
      "['  *  ', '  *  ', '  *  ', '  *  ', '  *  ', '  *  ', '  *  ', '  *  ']\n",
      "['  *  ', '  *  ', '  *  ', '  *  ', '  *  ', '  *  ', '  *  ', '  *  ']\n",
      "['  *  ', '  *  ', '  *  ', '  *  ', '  *  ', '  *  ', '  *  ', '  *  ']\n",
      "['  *  ', '  *  ', '  *  ', '  *  ', '  *  ', '  *  ', '  *  ', '  *  ']\n",
      "['  *  ', '  *  ', '  *  ', '  *  ', '  *  ', '  *  ', '  *  ', '  *  ']\n",
      "['  *  ', '  *  ', '  *  ', '  *  ', '  *  ', '  *  ', '  *  ', '  *  ']\n",
      "['  *  ', '  *  ', '  *  ', '  *  ', '  *  ', '  *  ', '  *  ', '  *  ']\n",
      "['  *  ', '  *  ', '  *  ', '  *  ', '  *  ', '  *  ', '  *  ', '  *  ']\n",
      "['  *  ', '  *  ', '  *  ', '  *  ', '  *  ', '  *  ', '  *  ', '  *  ']\n",
      "['  *  ', '  *  ', '  *  ', '  *  ', '  *  ', '  *  ', '  *  ', '  *  ']\n",
      "['  *  ', '  *  ', '  *  ', '  *  ', '  *  ', '  *  ', '  *  ', '  *  ']\n",
      "['  *  ', '  *  ', '  *  ', '  *  ', '  *  ', '  *  ', '  *  ', '  *  ']\n",
      "['  *  ', '  *  ', '  *  ', '  *  ', '  *  ', '  *  ', '  *  ', '  *  ']\n",
      "['  *  ', '  *  ', '  *  ', '  *  ', '  *  ', '  *  ', '  *  ', '  *  ']\n",
      "['  *  ', '  *  ', '  *  ', '  *  ', '  *  ', '  *  ', '  *  ', '  *  ']\n",
      "['  *  ', '  *  ', '  *  ', '  *  ', '  *  ', '  *  ', '  *  ', '  *  ']\n",
      "['  *  ', '  *  ', '  *  ', '  *  ', '  *  ', '  *  ', '  *  ', '  *  ']\n",
      "['  *  ', '  *  ', '  *  ', '  *  ', '  *  ', '  *  ', '  *  ', '  *  ']\n",
      "['  *  ', '  *  ', '  *  ', '  *  ', '  *  ', '  *  ', '  *  ', '  *  ']\n",
      "['  *  ', '  *  ', '  *  ', '  *  ', '  *  ', '  *  ', '  *  ', '  *  ']\n",
      "['  *  ', '  *  ', '  *  ', '  *  ', '  *  ', '  *  ', '  *  ', '  *  ']\n",
      "['  *  ', '  *  ', '  *  ', '  *  ', '  *  ', '  *  ', '  *  ', '  *  ']\n",
      "['  *  ', '  *  ', '  *  ', '  *  ', '  *  ', '  *  ', '  *  ', '  *  ']\n",
      "[(120, 0), (120, 1), (120, 2), (120, 3), (120, 4), (120, 5), (120, 6), (120, 7)]\n",
      "[(121, 0), (121, 1), (121, 2), (121, 3), (121, 4), (121, 5), (121, 6), (121, 7)]\n",
      "[(122, 0), (122, 1), (122, 2), (122, 3), (122, 4), (122, 5), (122, 6), (122, 7)]\n",
      "[(123, 0), (123, 1), (123, 2), (123, 3), (123, 4), (123, 5), (123, 6), (123, 7)]\n",
      "[(124, 0), (124, 1), (124, 2), (124, 3), (124, 4), (124, 5), (124, 6), (124, 7)]\n",
      "[(125, 0), (125, 1), (125, 2), (125, 3), (125, 4), (125, 5), (125, 6), (125, 7)]\n",
      "[(126, 0), (126, 1), (126, 2), (126, 3), (126, 4), (126, 5), (126, 6), (126, 7)]\n"
     ]
    }
   ],
   "source": [
    "# r_c = [(1,2),(0,0),(0,1)]\n",
    "# for printing\n",
    "for i in range(127):\n",
    "    l = []\n",
    "    for j in range(8):\n",
    "        if((i,j) in r_c):\n",
    "            l.append(('*'))\n",
    "        else:\n",
    "            l.append((i,j))    \n",
    "    print(l)"
   ]
  },
  {
   "cell_type": "code",
   "execution_count": 209,
   "metadata": {},
   "outputs": [
    {
     "data": {
      "text/plain": [
       "True"
      ]
     },
     "execution_count": 209,
     "metadata": {},
     "output_type": "execute_result"
    }
   ],
   "source": [
    "\n"
   ]
  },
  {
   "cell_type": "code",
   "execution_count": 187,
   "metadata": {},
   "outputs": [
    {
     "data": {
      "text/plain": [
       "8"
      ]
     },
     "execution_count": 187,
     "metadata": {},
     "output_type": "execute_result"
    }
   ],
   "source": [
    "l = [3,8,1]\n",
    "max(l)"
   ]
  },
  {
   "cell_type": "code",
   "execution_count": 185,
   "metadata": {},
   "outputs": [
    {
     "name": "stdout",
     "output_type": "stream",
     "text": [
      "1000110\n"
     ]
    },
    {
     "data": {
      "text/plain": [
       "70"
      ]
     },
     "execution_count": 185,
     "metadata": {},
     "output_type": "execute_result"
    }
   ],
   "source": [
    "#FBFBBFF\n"
   ]
  },
  {
   "cell_type": "code",
   "execution_count": 186,
   "metadata": {},
   "outputs": [
    {
     "name": "stdout",
     "output_type": "stream",
     "text": [
      "Row 70, column 7, seat ID 567\n"
     ]
    }
   ],
   "source": [
    "seat_id = (row * 8) + col\n",
    "print(f\"Row {row}, column {col}, seat ID {seat_id}\")"
   ]
  },
  {
   "cell_type": "code",
   "execution_count": null,
   "metadata": {},
   "outputs": [],
   "source": [
    "--- Day 6: Custom Customs ---\n",
    "As your flight approaches the regional airport where you'll switch \n",
    "to a much larger plane, customs declaration forms are distributed to the passengers.\n",
    "\n",
    "The form asks a series of 26 yes-or-no questions marked a through z. \n",
    "All you need to do is identify the questions for which anyone in your group answers \"yes\". \n",
    "Since your group is just you, this doesn't take very long.\n",
    "\n",
    "However, the person sitting next to you seems to be experiencing \n",
    "a language barrier and asks if you can help. For each of the people in their group, \n",
    "you write down the questions for which they answer \"yes\", one per line. For example:\n",
    "\n",
    "abcx\n",
    "abcy\n",
    "abcz\n",
    "In this group, there are 6 questions to which anyone answered \"yes\": a, b, c, x, y, and z. \n",
    "(Duplicate answers to the same question don't count extra; each question counts at most once.)\n",
    "\n",
    "Another group asks for your help, then another, and eventually \n",
    "you've collected answers from every group on the plane (your puzzle input). \n",
    " Each group's answers are separated by a blank line, and within each group, \n",
    " each person's answers are on a single line. For example:\n",
    "\n",
    "abc\n",
    "\n",
    "a\n",
    "b\n",
    "c\n",
    "\n",
    "ab\n",
    "ac\n",
    "\n",
    "a\n",
    "a\n",
    "a\n",
    "a\n",
    "\n",
    "b\n",
    "This list represents answers from five groups:\n",
    "\n",
    "The first group contains one person who answered \"yes\" to 3 questions: a, b, and c.\n",
    "The second group contains three people; combined, they answered \"yes\" to 3 questions: a, b, and c.\n",
    "The third group contains two people; combined, they answered \"yes\" to 3 questions: a, b, and c.\n",
    "The fourth group contains four people; combined, they answered \"yes\" to only 1 question, a.\n",
    "The last group contains one person who answered \"yes\" to only 1 question, b.\n",
    "In this example, the sum of these counts is 3 + 3 + 3 + 1 + 1 = 11.\n",
    "\n",
    "For each group, count the number of questions to which anyone answered \"yes\". \n",
    " What is the sum of those counts?"
   ]
  },
  {
   "cell_type": "code",
   "execution_count": 337,
   "metadata": {},
   "outputs": [],
   "source": [
    "def read_input(file_path):\n",
    "    rt_list = []\n",
    "    list_grp = []\n",
    "    f = open(file_path,'r')\n",
    "    for line in f:\n",
    "        if line != \"\\n\" :\n",
    "            list_grp.append(line.rstrip('\\n'))\n",
    "        if line == \"\\n\":\n",
    "            rt_list.append(list_grp)\n",
    "            list_grp = []\n",
    "#         list_grp.append(line)\n",
    "    rt_list.append(list_grp)\n",
    "    f.close()\n",
    "#     print(rt_list)\n",
    "    return rt_list"
   ]
  },
  {
   "cell_type": "code",
   "execution_count": 284,
   "metadata": {},
   "outputs": [],
   "source": [
    "def wrangle_list_1(l):\n",
    "    rt_list = []\n",
    "    for elem in l:\n",
    "        val = \"\".join(elem)\n",
    "        rt_list.append(len(set(list(val))))\n",
    "#     print(rt_list)\n",
    "    print(sum(rt_list))\n",
    "    return rt_list"
   ]
  },
  {
   "cell_type": "code",
   "execution_count": 286,
   "metadata": {},
   "outputs": [],
   "source": [
    "def wrangle_list_2(l):\n",
    "    rt_list = []\n",
    "    for elem in l:\n",
    "        print( elem )"
   ]
  },
  {
   "cell_type": "code",
   "execution_count": 287,
   "metadata": {},
   "outputs": [
    {
     "name": "stdout",
     "output_type": "stream",
     "text": [
      "[['abc'], ['a', 'b', 'c'], ['ab', 'ac'], ['a', 'a', 'a', 'a'], ['b']]\n",
      "['abc']\n",
      "['a', 'b', 'c']\n",
      "['ab', 'ac']\n",
      "['a', 'a', 'a', 'a']\n",
      "['b']\n"
     ]
    }
   ],
   "source": [
    "l = read_input(\"./2020/6/example.txt\")\n",
    "# l = read_input(\"./2020/6/input.txt\")\n",
    "#wl = wrangle_list_1(l)\n",
    "wrangle_list_2(l)"
   ]
  },
  {
   "cell_type": "code",
   "execution_count": 338,
   "metadata": {},
   "outputs": [],
   "source": [
    "def wrangle_list_2(l):\n",
    "    list_cnt = []\n",
    "    for grp in l:\n",
    "        sl=sorted(grp, key=len)\n",
    "        chk = list(sl[0])\n",
    "#         print(chk)\n",
    "#         print(len(chk))\n",
    "        cnt = len(chk)\n",
    "        for chk_elem in chk:\n",
    "            for elem in sl:\n",
    "                if chk_elem not in elem:\n",
    "                    cnt = cnt - 1\n",
    "                    break\n",
    "            \n",
    "        list_cnt.append(cnt)\n",
    "    print(list_cnt)\n",
    "    return sum(list_cnt)"
   ]
  },
  {
   "cell_type": "code",
   "execution_count": 332,
   "metadata": {},
   "outputs": [
    {
     "ename": "SyntaxError",
     "evalue": "invalid syntax (<ipython-input-332-cdeb1731bf57>, line 1)",
     "output_type": "error",
     "traceback": [
      "\u001b[0;36m  File \u001b[0;32m\"<ipython-input-332-cdeb1731bf57>\"\u001b[0;36m, line \u001b[0;32m1\u001b[0m\n\u001b[0;31m    list of grp -- [['abc'], ['a', 'b', 'c'], ['ab', 'ac'], ['a', 'a', 'a', 'a'], ['b']]\u001b[0m\n\u001b[0m          ^\u001b[0m\n\u001b[0;31mSyntaxError\u001b[0m\u001b[0;31m:\u001b[0m invalid syntax\n"
     ]
    }
   ],
   "source": [
    "list of grp -- [['abc'], ['a', 'b', 'c'], ['ab', 'ac'], ['a', 'a', 'a', 'a'], ['b']]\n",
    "in each grp --- ['abc']\n",
    "sort the elem by length, \n",
    "create another list with shorted elem\n",
    "\n"
   ]
  },
  {
   "cell_type": "code",
   "execution_count": 341,
   "metadata": {},
   "outputs": [
    {
     "name": "stdout",
     "output_type": "stream",
     "text": [
      "[11, 0, 5, 8, 0, 0, 1, 5, 13, 8, 0, 3, 0, 2, 4, 2, 1, 0, 6, 3, 0, 7, 11, 10, 6, 15, 2, 10, 2, 4, 6, 8, 5, 5, 3, 1, 9, 4, 18, 1, 0, 13, 18, 11, 0, 17, 1, 1, 4, 21, 9, 0, 1, 0, 15, 3, 2, 1, 3, 4, 17, 0, 8, 8, 6, 1, 10, 4, 15, 0, 7, 14, 2, 2, 1, 3, 0, 0, 9, 2, 13, 1, 5, 10, 2, 4, 3, 5, 1, 0, 0, 8, 6, 5, 1, 1, 12, 17, 1, 2, 1, 8, 1, 11, 22, 0, 11, 2, 0, 8, 0, 7, 1, 7, 5, 15, 14, 12, 3, 0, 9, 1, 21, 11, 9, 4, 5, 8, 16, 0, 0, 3, 6, 8, 4, 9, 3, 13, 3, 10, 1, 5, 8, 12, 3, 4, 2, 5, 3, 7, 7, 1, 4, 3, 15, 6, 10, 14, 7, 11, 15, 12, 7, 4, 6, 1, 0, 2, 6, 5, 7, 9, 1, 7, 21, 6, 9, 3, 22, 14, 8, 2, 1, 7, 9, 4, 4, 5, 11, 0, 8, 2, 1, 0, 11, 2, 21, 2, 3, 3, 14, 8, 6, 6, 10, 10, 6, 9, 8, 1, 8, 4, 5, 2, 7, 7, 3, 20, 7, 13, 5, 8, 9, 11, 1, 0, 3, 2, 19, 3, 22, 7, 8, 5, 2, 1, 2, 10, 4, 8, 8, 10, 1, 12, 1, 2, 20, 1, 5, 15, 0, 4, 1, 14, 6, 1, 6, 1, 0, 4, 3, 5, 1, 5, 3, 1, 8, 0, 0, 0, 2, 21, 16, 5, 6, 2, 15, 5, 5, 14, 7, 5, 4, 19, 8, 3, 23, 1, 4, 11, 22, 17, 6, 2, 4, 2, 5, 8, 12, 4, 1, 9, 1, 5, 4, 1, 14, 8, 22, 9, 11, 6, 13, 9, 2, 9, 23, 9, 3, 5, 16, 7, 1, 12, 4, 6, 19, 16, 10, 5, 3, 1, 12, 3, 2, 1, 6, 9, 5, 2, 4, 11, 18, 0, 8, 8, 21, 4, 14, 4, 0, 13, 7, 3, 1, 2, 9, 5, 7, 6, 3, 1, 2, 3, 11, 11, 18, 1, 3, 0, 5, 1, 5, 2, 4, 5, 11, 15, 19, 1, 2, 9, 4, 5, 5, 8, 8, 0, 3, 2, 25, 13, 6, 0, 2, 11, 26, 4, 2, 4, 16, 3, 3, 2, 1, 4, 0, 2, 4, 0, 16, 2, 5, 7, 1, 21, 3, 3, 1, 11, 7, 6, 0, 7, 7, 3, 1, 9, 0, 20, 4, 1, 7, 15, 2, 2, 17, 3, 18, 6, 6, 0, 5, 9, 3, 2, 18, 9, 0, 17, 5, 4, 3, 3, 17, 10, 2, 14, 16, 6, 8, 1, 8, 1, 20, 5, 16, 9, 0, 0, 9, 1, 24, 9, 6, 2, 2, 1, 10, 9, 1, 7, 5, 1]\n"
     ]
    },
    {
     "data": {
      "text/plain": [
       "3122"
      ]
     },
     "execution_count": 341,
     "metadata": {},
     "output_type": "execute_result"
    }
   ],
   "source": [
    "l = read_input(\"./2020/6/example.txt\")\n",
    "l = read_input(\"./2020/6/input.txt\")\n",
    "wrangle_list_2(l)\n",
    "# wrangle_list_1(l)"
   ]
  },
  {
   "cell_type": "code",
   "execution_count": 316,
   "metadata": {},
   "outputs": [
    {
     "data": {
      "text/plain": [
       "False"
      ]
     },
     "execution_count": 316,
     "metadata": {},
     "output_type": "execute_result"
    }
   ],
   "source": [
    "'a' in 'bc'"
   ]
  },
  {
   "cell_type": "code",
   "execution_count": 267,
   "metadata": {},
   "outputs": [
    {
     "data": {
      "text/plain": [
       "3"
      ]
     },
     "execution_count": 267,
     "metadata": {},
     "output_type": "execute_result"
    }
   ],
   "source": [
    "len('abc')"
   ]
  },
  {
   "cell_type": "code",
   "execution_count": null,
   "metadata": {},
   "outputs": [],
   "source": []
  }
 ],
 "metadata": {
  "kernelspec": {
   "display_name": "Python 3",
   "language": "python",
   "name": "python3"
  },
  "language_info": {
   "codemirror_mode": {
    "name": "ipython",
    "version": 3
   },
   "file_extension": ".py",
   "mimetype": "text/x-python",
   "name": "python",
   "nbconvert_exporter": "python",
   "pygments_lexer": "ipython3",
   "version": "3.7.4"
  }
 },
 "nbformat": 4,
 "nbformat_minor": 4
}
