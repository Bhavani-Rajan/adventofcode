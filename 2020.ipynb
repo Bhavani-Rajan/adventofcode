{
 "cells": [
  {
   "cell_type": "code",
   "execution_count": 6,
   "metadata": {},
   "outputs": [],
   "source": [
    "import pandas as pd\n",
    "import numpy as np"
   ]
  },
  {
   "cell_type": "raw",
   "metadata": {},
   "source": [
    "--- Day 1: Report Repair ---\n",
    "After saving Christmas five years in a row, you've decided to take a vacation at a nice resort on a tropical island. Surely, Christmas will go on without you.\n",
    "\n",
    "The tropical island has its own currency and is entirely cash-only. The gold coins used there have a little picture of a starfish; the locals just call them stars. None of the currency exchanges seem to have heard of them, but somehow, you'll need to find fifty of these coins by the time you arrive so you can pay the deposit on your room.\n",
    "\n",
    "To save your vacation, you need to get all fifty stars by December 25th.\n",
    "\n",
    "Collect stars by solving puzzles. Two puzzles will be made available on each day in the Advent calendar; the second puzzle is unlocked when you complete the first. Each puzzle grants one star. Good luck!\n",
    "\n",
    "Before you leave, the Elves in accounting just need you to fix your expense report (your puzzle input); apparently, something isn't quite adding up.\n",
    "\n",
    "Specifically, they need you to find the two entries that sum to 2020 and then multiply those two numbers together.\n",
    "\n",
    "For example, suppose your expense report contained the following:\n",
    "\n",
    "1721\n",
    "979\n",
    "366\n",
    "299\n",
    "675\n",
    "1456\n",
    "In this list, the two entries that sum to 2020 are 1721 and 299. Multiplying them together produces 1721 * 299 = 514579, so the correct answer is 514579.\n",
    "\n",
    "Of course, your expense report is much larger. Find the two entries that sum to 2020; what do you get if you multiply them together?\n",
    "\n"
   ]
  },
  {
   "cell_type": "code",
   "execution_count": 10,
   "metadata": {},
   "outputs": [
    {
     "name": "stdout",
     "output_type": "stream",
     "text": [
      "299 x 1721 = 514579\n",
      "{1721: 299, 979: 1041, 366: 1654, 299: 1721, 675: 1345, 1456: 564}\n"
     ]
    }
   ],
   "source": [
    "l = [1721,\n",
    "979,\n",
    "366,\n",
    "299,\n",
    "675,\n",
    "1456]\n",
    "total = 2020\n",
    "dict_l = {}\n",
    "for elem in l:\n",
    "    dict_l[elem] = total - elem\n",
    "for elem in dict_l.values():\n",
    "    if elem in dict_l.keys():\n",
    "        print(f\"{elem} x {dict_l[elem]} = {elem * dict_l[elem]}\")\n",
    "        break\n",
    "print(dict_l)"
   ]
  },
  {
   "cell_type": "code",
   "execution_count": 31,
   "metadata": {},
   "outputs": [],
   "source": [
    "ip = pd.read_csv(\"./2020/input.csv\", header=None)"
   ]
  },
  {
   "cell_type": "code",
   "execution_count": 32,
   "metadata": {},
   "outputs": [],
   "source": [
    "l = ip[0].to_list()"
   ]
  },
  {
   "cell_type": "code",
   "execution_count": 23,
   "metadata": {},
   "outputs": [],
   "source": [
    "def mult_2_2020(l):\n",
    "    total = 2020\n",
    "    dict_l = {}\n",
    "    for elem in l:\n",
    "        dict_l[elem] = total - elem\n",
    "    for elem in dict_l.values():\n",
    "        if elem in dict_l.keys():\n",
    "            print(f\"{elem} x {dict_l[elem]} = {elem * dict_l[elem]}\")\n",
    "            break"
   ]
  },
  {
   "cell_type": "code",
   "execution_count": 24,
   "metadata": {},
   "outputs": [
    {
     "name": "stdout",
     "output_type": "stream",
     "text": [
      "1644 x 376 = 618144\n"
     ]
    }
   ],
   "source": [
    "mult_2_2020(l)"
   ]
  },
  {
   "cell_type": "code",
   "execution_count": null,
   "metadata": {},
   "outputs": [],
   "source": [
    "--- Part Two ---\n",
    "The Elves in accounting are thankful for your help; \n",
    "one of them even offers you a starfish coin they had left over from a past vacation. \n",
    "They offer you a second one \n",
    "if you can find three numbers in your expense report that meet the same criteria.\n",
    "\n",
    "Using the above example again, the three entries that sum to 2020 are 979, 366, and 675. \n",
    "Multiplying them together produces the answer, 241861950.\n",
    "\n",
    "In your expense report, what is the product of the three entries that sum to 2020?\n",
    "\n"
   ]
  },
  {
   "cell_type": "code",
   "execution_count": 36,
   "metadata": {},
   "outputs": [],
   "source": [
    "from itertools import combinations\n",
    "def mult_3_2020(l):\n",
    "    total = 2020\n",
    "    comb_l = list(combinations(l,3))\n",
    "    for elem in comb_l:\n",
    "        if sum(elem) == total:\n",
    "            print(elem[0] * elem[1] * elem[2])"
   ]
  },
  {
   "cell_type": "code",
   "execution_count": 37,
   "metadata": {},
   "outputs": [
    {
     "name": "stdout",
     "output_type": "stream",
     "text": [
      "241861950\n"
     ]
    }
   ],
   "source": [
    "l = [1721,\n",
    "979,\n",
    "366,\n",
    "299,\n",
    "675,\n",
    "1456]\n",
    "mult_3_2020(l)"
   ]
  },
  {
   "cell_type": "code",
   "execution_count": 38,
   "metadata": {},
   "outputs": [
    {
     "name": "stdout",
     "output_type": "stream",
     "text": [
      "173538720\n"
     ]
    }
   ],
   "source": [
    "ip = pd.read_csv(\"./2020/input.csv\", header=None)\n",
    "l = ip[0].to_list()\n",
    "mult_3_2020(l)"
   ]
  },
  {
   "cell_type": "code",
   "execution_count": null,
   "metadata": {},
   "outputs": [],
   "source": [
    "--- Day 2: Password Philosophy ---\n",
    "Your flight departs in a few days from the coastal airport; \n",
    "the easiest way down to the coast from here is via toboggan.\n",
    "\n",
    "The shopkeeper at the North Pole Toboggan Rental Shop is having a bad day. \n",
    "\"Something's wrong with our computers; we can't log in!\" You ask if you can take a look.\n",
    "\n",
    "Their password database seems to be a little corrupted: \n",
    "some of the passwords wouldn't have been allowed by \n",
    "the Official Toboggan Corporate Policy that was in effect when they were chosen.\n",
    "\n",
    "To try to debug the problem, \n",
    "they have created a list (your puzzle input) of passwords \n",
    "(according to the corrupted database) and the corporate policy when that password was set.\n",
    "\n",
    "For example, suppose you have the following list:\n",
    "\n",
    "1-3 a: abcde\n",
    "1-3 b: cdefg\n",
    "2-9 c: ccccccccc\n",
    "Each line gives the password policy and then the password. \n",
    "The password policy indicates the lowest and highest number of times \n",
    "a given letter must appear for the password to be valid. \n",
    "For example, 1-3 a means that the password must contain a at least 1 time and at most 3 times.\n",
    "\n",
    "In the above example, 2 passwords are valid. \n",
    "The middle password, cdefg, is not; \n",
    "it contains no instances of b, but needs at least 1. \n",
    "The first and third passwords are valid: \n",
    "they contain one a or nine c, both within the limits of their respective policies.\n",
    "\n",
    "How many passwords are valid according to their policies?"
   ]
  },
  {
   "cell_type": "code",
   "execution_count": 188,
   "metadata": {},
   "outputs": [],
   "source": []
  },
  {
   "cell_type": "code",
   "execution_count": 7,
   "metadata": {},
   "outputs": [
    {
     "name": "stdout",
     "output_type": "stream",
     "text": [
      "['1-3 a: abcde', '1-3 b: cdefg', '2-9 c: ccccccccc']\n"
     ]
    },
    {
     "data": {
      "text/html": [
       "<div>\n",
       "<style scoped>\n",
       "    .dataframe tbody tr th:only-of-type {\n",
       "        vertical-align: middle;\n",
       "    }\n",
       "\n",
       "    .dataframe tbody tr th {\n",
       "        vertical-align: top;\n",
       "    }\n",
       "\n",
       "    .dataframe thead th {\n",
       "        text-align: right;\n",
       "    }\n",
       "</style>\n",
       "<table border=\"1\" class=\"dataframe\">\n",
       "  <thead>\n",
       "    <tr style=\"text-align: right;\">\n",
       "      <th></th>\n",
       "      <th>0</th>\n",
       "    </tr>\n",
       "  </thead>\n",
       "  <tbody>\n",
       "    <tr>\n",
       "      <th>0</th>\n",
       "      <td>1-3 a: abcde</td>\n",
       "    </tr>\n",
       "    <tr>\n",
       "      <th>1</th>\n",
       "      <td>1-3 b: cdefg</td>\n",
       "    </tr>\n",
       "    <tr>\n",
       "      <th>2</th>\n",
       "      <td>2-9 c: ccccccccc</td>\n",
       "    </tr>\n",
       "  </tbody>\n",
       "</table>\n",
       "</div>"
      ],
      "text/plain": [
       "                  0\n",
       "0      1-3 a: abcde\n",
       "1      1-3 b: cdefg\n",
       "2  2-9 c: ccccccccc"
      ]
     },
     "execution_count": 7,
     "metadata": {},
     "output_type": "execute_result"
    }
   ],
   "source": [
    "l = [\n",
    "    \"1-3 a: abcde\",\n",
    "    \"1-3 b: cdefg\",\n",
    "    \"2-9 c: ccccccccc\"\n",
    "]\n",
    "print(l)\n",
    "pwd = pd.DataFrame(l)\n",
    "pwd"
   ]
  },
  {
   "cell_type": "code",
   "execution_count": 8,
   "metadata": {},
   "outputs": [
    {
     "data": {
      "text/html": [
       "<div>\n",
       "<style scoped>\n",
       "    .dataframe tbody tr th:only-of-type {\n",
       "        vertical-align: middle;\n",
       "    }\n",
       "\n",
       "    .dataframe tbody tr th {\n",
       "        vertical-align: top;\n",
       "    }\n",
       "\n",
       "    .dataframe thead th {\n",
       "        text-align: right;\n",
       "    }\n",
       "</style>\n",
       "<table border=\"1\" class=\"dataframe\">\n",
       "  <thead>\n",
       "    <tr style=\"text-align: right;\">\n",
       "      <th></th>\n",
       "      <th>0</th>\n",
       "    </tr>\n",
       "  </thead>\n",
       "  <tbody>\n",
       "    <tr>\n",
       "      <th>0</th>\n",
       "      <td>1-2 x: xpxc</td>\n",
       "    </tr>\n",
       "    <tr>\n",
       "      <th>1</th>\n",
       "      <td>1-5 b: bwlbbbbcq</td>\n",
       "    </tr>\n",
       "    <tr>\n",
       "      <th>2</th>\n",
       "      <td>3-5 v: qvjjdhvl</td>\n",
       "    </tr>\n",
       "    <tr>\n",
       "      <th>3</th>\n",
       "      <td>9-12 t: ttfjvvtgxtctrntnhtt</td>\n",
       "    </tr>\n",
       "    <tr>\n",
       "      <th>4</th>\n",
       "      <td>3-4 r: rqjw</td>\n",
       "    </tr>\n",
       "    <tr>\n",
       "      <th>...</th>\n",
       "      <td>...</td>\n",
       "    </tr>\n",
       "    <tr>\n",
       "      <th>995</th>\n",
       "      <td>5-7 n: lbwxnnnncnnwnv</td>\n",
       "    </tr>\n",
       "    <tr>\n",
       "      <th>996</th>\n",
       "      <td>8-9 k: kgkkkkkjf</td>\n",
       "    </tr>\n",
       "    <tr>\n",
       "      <th>997</th>\n",
       "      <td>7-9 l: llllllllll</td>\n",
       "    </tr>\n",
       "    <tr>\n",
       "      <th>998</th>\n",
       "      <td>15-19 p: pppbpcppxcptppvmpppb</td>\n",
       "    </tr>\n",
       "    <tr>\n",
       "      <th>999</th>\n",
       "      <td>3-4 m: fqmwcncsmp</td>\n",
       "    </tr>\n",
       "  </tbody>\n",
       "</table>\n",
       "<p>1000 rows × 1 columns</p>\n",
       "</div>"
      ],
      "text/plain": [
       "                                 0\n",
       "0                      1-2 x: xpxc\n",
       "1                 1-5 b: bwlbbbbcq\n",
       "2                  3-5 v: qvjjdhvl\n",
       "3      9-12 t: ttfjvvtgxtctrntnhtt\n",
       "4                      3-4 r: rqjw\n",
       "..                             ...\n",
       "995          5-7 n: lbwxnnnncnnwnv\n",
       "996               8-9 k: kgkkkkkjf\n",
       "997              7-9 l: llllllllll\n",
       "998  15-19 p: pppbpcppxcptppvmpppb\n",
       "999              3-4 m: fqmwcncsmp\n",
       "\n",
       "[1000 rows x 1 columns]"
      ]
     },
     "execution_count": 8,
     "metadata": {},
     "output_type": "execute_result"
    }
   ],
   "source": [
    "pwd = pd.read_csv(\"./2020/2/input.csv\", header=None)\n",
    "pwd"
   ]
  },
  {
   "cell_type": "code",
   "execution_count": 9,
   "metadata": {},
   "outputs": [],
   "source": [
    "def split_string(s):\n",
    "    subs = s.split(\":\")\n",
    "    string = subs[1].strip()\n",
    "    vals = subs[0].split(' ')\n",
    "    letter = vals[1]\n",
    "    vals = vals[0].split('-')\n",
    "    lo_limit = vals[0]\n",
    "    hi_limit = vals[1]\n",
    "    \n",
    "    return pd.Series([string, letter, lo_limit, hi_limit])"
   ]
  },
  {
   "cell_type": "code",
   "execution_count": 11,
   "metadata": {},
   "outputs": [
    {
     "data": {
      "text/html": [
       "<div>\n",
       "<style scoped>\n",
       "    .dataframe tbody tr th:only-of-type {\n",
       "        vertical-align: middle;\n",
       "    }\n",
       "\n",
       "    .dataframe tbody tr th {\n",
       "        vertical-align: top;\n",
       "    }\n",
       "\n",
       "    .dataframe thead th {\n",
       "        text-align: right;\n",
       "    }\n",
       "</style>\n",
       "<table border=\"1\" class=\"dataframe\">\n",
       "  <thead>\n",
       "    <tr style=\"text-align: right;\">\n",
       "      <th></th>\n",
       "      <th>0</th>\n",
       "      <th>string</th>\n",
       "      <th>letter</th>\n",
       "      <th>lo_limit</th>\n",
       "      <th>hi_limit</th>\n",
       "    </tr>\n",
       "  </thead>\n",
       "  <tbody>\n",
       "    <tr>\n",
       "      <th>0</th>\n",
       "      <td>1-2 x: xpxc</td>\n",
       "      <td>xpxc</td>\n",
       "      <td>x</td>\n",
       "      <td>1</td>\n",
       "      <td>2</td>\n",
       "    </tr>\n",
       "    <tr>\n",
       "      <th>1</th>\n",
       "      <td>1-5 b: bwlbbbbcq</td>\n",
       "      <td>bwlbbbbcq</td>\n",
       "      <td>b</td>\n",
       "      <td>1</td>\n",
       "      <td>5</td>\n",
       "    </tr>\n",
       "    <tr>\n",
       "      <th>2</th>\n",
       "      <td>3-5 v: qvjjdhvl</td>\n",
       "      <td>qvjjdhvl</td>\n",
       "      <td>v</td>\n",
       "      <td>3</td>\n",
       "      <td>5</td>\n",
       "    </tr>\n",
       "    <tr>\n",
       "      <th>3</th>\n",
       "      <td>9-12 t: ttfjvvtgxtctrntnhtt</td>\n",
       "      <td>ttfjvvtgxtctrntnhtt</td>\n",
       "      <td>t</td>\n",
       "      <td>9</td>\n",
       "      <td>12</td>\n",
       "    </tr>\n",
       "    <tr>\n",
       "      <th>4</th>\n",
       "      <td>3-4 r: rqjw</td>\n",
       "      <td>rqjw</td>\n",
       "      <td>r</td>\n",
       "      <td>3</td>\n",
       "      <td>4</td>\n",
       "    </tr>\n",
       "    <tr>\n",
       "      <th>...</th>\n",
       "      <td>...</td>\n",
       "      <td>...</td>\n",
       "      <td>...</td>\n",
       "      <td>...</td>\n",
       "      <td>...</td>\n",
       "    </tr>\n",
       "    <tr>\n",
       "      <th>995</th>\n",
       "      <td>5-7 n: lbwxnnnncnnwnv</td>\n",
       "      <td>lbwxnnnncnnwnv</td>\n",
       "      <td>n</td>\n",
       "      <td>5</td>\n",
       "      <td>7</td>\n",
       "    </tr>\n",
       "    <tr>\n",
       "      <th>996</th>\n",
       "      <td>8-9 k: kgkkkkkjf</td>\n",
       "      <td>kgkkkkkjf</td>\n",
       "      <td>k</td>\n",
       "      <td>8</td>\n",
       "      <td>9</td>\n",
       "    </tr>\n",
       "    <tr>\n",
       "      <th>997</th>\n",
       "      <td>7-9 l: llllllllll</td>\n",
       "      <td>llllllllll</td>\n",
       "      <td>l</td>\n",
       "      <td>7</td>\n",
       "      <td>9</td>\n",
       "    </tr>\n",
       "    <tr>\n",
       "      <th>998</th>\n",
       "      <td>15-19 p: pppbpcppxcptppvmpppb</td>\n",
       "      <td>pppbpcppxcptppvmpppb</td>\n",
       "      <td>p</td>\n",
       "      <td>15</td>\n",
       "      <td>19</td>\n",
       "    </tr>\n",
       "    <tr>\n",
       "      <th>999</th>\n",
       "      <td>3-4 m: fqmwcncsmp</td>\n",
       "      <td>fqmwcncsmp</td>\n",
       "      <td>m</td>\n",
       "      <td>3</td>\n",
       "      <td>4</td>\n",
       "    </tr>\n",
       "  </tbody>\n",
       "</table>\n",
       "<p>1000 rows × 5 columns</p>\n",
       "</div>"
      ],
      "text/plain": [
       "                                 0                string letter  lo_limit  \\\n",
       "0                      1-2 x: xpxc                  xpxc      x         1   \n",
       "1                 1-5 b: bwlbbbbcq             bwlbbbbcq      b         1   \n",
       "2                  3-5 v: qvjjdhvl              qvjjdhvl      v         3   \n",
       "3      9-12 t: ttfjvvtgxtctrntnhtt   ttfjvvtgxtctrntnhtt      t         9   \n",
       "4                      3-4 r: rqjw                  rqjw      r         3   \n",
       "..                             ...                   ...    ...       ...   \n",
       "995          5-7 n: lbwxnnnncnnwnv        lbwxnnnncnnwnv      n         5   \n",
       "996               8-9 k: kgkkkkkjf             kgkkkkkjf      k         8   \n",
       "997              7-9 l: llllllllll            llllllllll      l         7   \n",
       "998  15-19 p: pppbpcppxcptppvmpppb  pppbpcppxcptppvmpppb      p        15   \n",
       "999              3-4 m: fqmwcncsmp            fqmwcncsmp      m         3   \n",
       "\n",
       "     hi_limit  \n",
       "0           2  \n",
       "1           5  \n",
       "2           5  \n",
       "3          12  \n",
       "4           4  \n",
       "..        ...  \n",
       "995         7  \n",
       "996         9  \n",
       "997         9  \n",
       "998        19  \n",
       "999         4  \n",
       "\n",
       "[1000 rows x 5 columns]"
      ]
     },
     "execution_count": 11,
     "metadata": {},
     "output_type": "execute_result"
    }
   ],
   "source": [
    "pwd[['string', 'letter', 'lo_limit', 'hi_limit']] = pwd[0].apply(split_string)\n",
    "pwd['lo_limit'] = pwd['lo_limit'].astype(int)\n",
    "pwd['hi_limit'] = pwd['hi_limit'].astype(int)\n",
    "pwd"
   ]
  },
  {
   "cell_type": "code",
   "execution_count": 12,
   "metadata": {},
   "outputs": [],
   "source": [
    "import numpy as np\n",
    "def is_pwd(s,letter, lo_limit, hi_limit):\n",
    "#     print(s, letter, lo_limit, hi_limit)\n",
    "    rt = 0\n",
    "    found = s.count(letter)\n",
    "    if ((found >= lo_limit) and (found <= hi_limit)):\n",
    "        rt = 1\n",
    "    return rt\n"
   ]
  },
  {
   "cell_type": "code",
   "execution_count": 13,
   "metadata": {},
   "outputs": [
    {
     "data": {
      "text/plain": [
       "556"
      ]
     },
     "execution_count": 13,
     "metadata": {},
     "output_type": "execute_result"
    }
   ],
   "source": [
    "pwd['is_pwd'] = np.vectorize(is_pwd)(pwd['string'],pwd['letter'],pwd['lo_limit'],pwd['hi_limit'])\n",
    "pwd['is_pwd'].sum()"
   ]
  },
  {
   "cell_type": "code",
   "execution_count": 14,
   "metadata": {},
   "outputs": [
    {
     "data": {
      "text/plain": [
       "3"
      ]
     },
     "execution_count": 14,
     "metadata": {},
     "output_type": "execute_result"
    }
   ],
   "source": [
    "s = \"abcdaae\"\n",
    "letter =\"a\"\n",
    "s.count(letter)"
   ]
  },
  {
   "cell_type": "code",
   "execution_count": null,
   "metadata": {},
   "outputs": [],
   "source": [
    "--- Part Two ---\n",
    "While it appears you validated the passwords correctly, \n",
    "they don't seem to be what the Official Toboggan Corporate Authentication System is expecting.\n",
    "\n",
    "The shopkeeper suddenly realizes that he just accidentally explained \n",
    "the password policy rules from his old job at the sled rental place down the street! \n",
    "The Official Toboggan Corporate Policy actually works a little differently.\n",
    "\n",
    "Each policy actually describes two positions in the password, \n",
    "where 1 means the first character, 2 means the second character, \n",
    "and so on. (Be careful; Toboggan Corporate Policies have no concept of \"index zero\"!) \n",
    "Exactly one of these positions must contain the given letter. \n",
    "Other occurrences of the letter are irrelevant for the purposes of policy enforcement.\n",
    "\n",
    "Given the same example list from above:\n",
    "\n",
    "1-3 a: abcde is valid: position 1 contains a and position 3 does not.\n",
    "1-3 b: cdefg is invalid: neither position 1 nor position 3 contains b.\n",
    "2-9 c: ccccccccc is invalid: both position 2 and position 9 contain c.\n",
    "How many passwords are valid according to the new interpretation of the policies?"
   ]
  },
  {
   "cell_type": "code",
   "execution_count": 23,
   "metadata": {},
   "outputs": [
    {
     "data": {
      "text/plain": [
       "False"
      ]
     },
     "execution_count": 23,
     "metadata": {},
     "output_type": "execute_result"
    }
   ],
   "source": [
    "s=\"abade\"\n",
    "letter ='a'\n",
    "lo_limit = 1\n",
    "hi_limit = 3\n",
    "A = s[lo_limit - 1] == letter\n",
    "B = s[hi_limit - 1] == letter\n",
    "A ^ B"
   ]
  },
  {
   "cell_type": "code",
   "execution_count": null,
   "metadata": {},
   "outputs": [],
   "source": []
  },
  {
   "cell_type": "code",
   "execution_count": 19,
   "metadata": {},
   "outputs": [
    {
     "name": "stdout",
     "output_type": "stream",
     "text": [
      "['1-3 a: abcde', '1-3 b: cdefg', '2-9 c: ccccccccc']\n"
     ]
    },
    {
     "data": {
      "text/html": [
       "<div>\n",
       "<style scoped>\n",
       "    .dataframe tbody tr th:only-of-type {\n",
       "        vertical-align: middle;\n",
       "    }\n",
       "\n",
       "    .dataframe tbody tr th {\n",
       "        vertical-align: top;\n",
       "    }\n",
       "\n",
       "    .dataframe thead th {\n",
       "        text-align: right;\n",
       "    }\n",
       "</style>\n",
       "<table border=\"1\" class=\"dataframe\">\n",
       "  <thead>\n",
       "    <tr style=\"text-align: right;\">\n",
       "      <th></th>\n",
       "      <th>0</th>\n",
       "    </tr>\n",
       "  </thead>\n",
       "  <tbody>\n",
       "    <tr>\n",
       "      <th>0</th>\n",
       "      <td>1-3 a: abcde</td>\n",
       "    </tr>\n",
       "    <tr>\n",
       "      <th>1</th>\n",
       "      <td>1-3 b: cdefg</td>\n",
       "    </tr>\n",
       "    <tr>\n",
       "      <th>2</th>\n",
       "      <td>2-9 c: ccccccccc</td>\n",
       "    </tr>\n",
       "  </tbody>\n",
       "</table>\n",
       "</div>"
      ],
      "text/plain": [
       "                  0\n",
       "0      1-3 a: abcde\n",
       "1      1-3 b: cdefg\n",
       "2  2-9 c: ccccccccc"
      ]
     },
     "execution_count": 19,
     "metadata": {},
     "output_type": "execute_result"
    }
   ],
   "source": [
    "l = [\n",
    "    \"1-3 a: abcde\",\n",
    "    \"1-3 b: cdefg\",\n",
    "    \"2-9 c: ccccccccc\"\n",
    "]\n",
    "print(l)\n",
    "pwd = pd.DataFrame(l)\n",
    "pwd"
   ]
  },
  {
   "cell_type": "code",
   "execution_count": 26,
   "metadata": {},
   "outputs": [
    {
     "data": {
      "text/html": [
       "<div>\n",
       "<style scoped>\n",
       "    .dataframe tbody tr th:only-of-type {\n",
       "        vertical-align: middle;\n",
       "    }\n",
       "\n",
       "    .dataframe tbody tr th {\n",
       "        vertical-align: top;\n",
       "    }\n",
       "\n",
       "    .dataframe thead th {\n",
       "        text-align: right;\n",
       "    }\n",
       "</style>\n",
       "<table border=\"1\" class=\"dataframe\">\n",
       "  <thead>\n",
       "    <tr style=\"text-align: right;\">\n",
       "      <th></th>\n",
       "      <th>0</th>\n",
       "    </tr>\n",
       "  </thead>\n",
       "  <tbody>\n",
       "    <tr>\n",
       "      <th>0</th>\n",
       "      <td>1-2 x: xpxc</td>\n",
       "    </tr>\n",
       "    <tr>\n",
       "      <th>1</th>\n",
       "      <td>1-5 b: bwlbbbbcq</td>\n",
       "    </tr>\n",
       "    <tr>\n",
       "      <th>2</th>\n",
       "      <td>3-5 v: qvjjdhvl</td>\n",
       "    </tr>\n",
       "    <tr>\n",
       "      <th>3</th>\n",
       "      <td>9-12 t: ttfjvvtgxtctrntnhtt</td>\n",
       "    </tr>\n",
       "    <tr>\n",
       "      <th>4</th>\n",
       "      <td>3-4 r: rqjw</td>\n",
       "    </tr>\n",
       "    <tr>\n",
       "      <th>...</th>\n",
       "      <td>...</td>\n",
       "    </tr>\n",
       "    <tr>\n",
       "      <th>995</th>\n",
       "      <td>5-7 n: lbwxnnnncnnwnv</td>\n",
       "    </tr>\n",
       "    <tr>\n",
       "      <th>996</th>\n",
       "      <td>8-9 k: kgkkkkkjf</td>\n",
       "    </tr>\n",
       "    <tr>\n",
       "      <th>997</th>\n",
       "      <td>7-9 l: llllllllll</td>\n",
       "    </tr>\n",
       "    <tr>\n",
       "      <th>998</th>\n",
       "      <td>15-19 p: pppbpcppxcptppvmpppb</td>\n",
       "    </tr>\n",
       "    <tr>\n",
       "      <th>999</th>\n",
       "      <td>3-4 m: fqmwcncsmp</td>\n",
       "    </tr>\n",
       "  </tbody>\n",
       "</table>\n",
       "<p>1000 rows × 1 columns</p>\n",
       "</div>"
      ],
      "text/plain": [
       "                                 0\n",
       "0                      1-2 x: xpxc\n",
       "1                 1-5 b: bwlbbbbcq\n",
       "2                  3-5 v: qvjjdhvl\n",
       "3      9-12 t: ttfjvvtgxtctrntnhtt\n",
       "4                      3-4 r: rqjw\n",
       "..                             ...\n",
       "995          5-7 n: lbwxnnnncnnwnv\n",
       "996               8-9 k: kgkkkkkjf\n",
       "997              7-9 l: llllllllll\n",
       "998  15-19 p: pppbpcppxcptppvmpppb\n",
       "999              3-4 m: fqmwcncsmp\n",
       "\n",
       "[1000 rows x 1 columns]"
      ]
     },
     "execution_count": 26,
     "metadata": {},
     "output_type": "execute_result"
    }
   ],
   "source": [
    "pwd = pd.read_csv(\"./2020/2/input.csv\", header=None)\n",
    "pwd"
   ]
  },
  {
   "cell_type": "code",
   "execution_count": 27,
   "metadata": {},
   "outputs": [],
   "source": [
    "def split_string(s):\n",
    "    subs = s.split(\":\")\n",
    "    string = subs[1].strip()\n",
    "    vals = subs[0].split(' ')\n",
    "    letter = vals[1]\n",
    "    vals = vals[0].split('-')\n",
    "    lo_limit = vals[0]\n",
    "    hi_limit = vals[1]\n",
    "    \n",
    "    return pd.Series([string, letter, lo_limit, hi_limit])"
   ]
  },
  {
   "cell_type": "code",
   "execution_count": 28,
   "metadata": {},
   "outputs": [
    {
     "data": {
      "text/html": [
       "<div>\n",
       "<style scoped>\n",
       "    .dataframe tbody tr th:only-of-type {\n",
       "        vertical-align: middle;\n",
       "    }\n",
       "\n",
       "    .dataframe tbody tr th {\n",
       "        vertical-align: top;\n",
       "    }\n",
       "\n",
       "    .dataframe thead th {\n",
       "        text-align: right;\n",
       "    }\n",
       "</style>\n",
       "<table border=\"1\" class=\"dataframe\">\n",
       "  <thead>\n",
       "    <tr style=\"text-align: right;\">\n",
       "      <th></th>\n",
       "      <th>0</th>\n",
       "      <th>string</th>\n",
       "      <th>letter</th>\n",
       "      <th>lo_limit</th>\n",
       "      <th>hi_limit</th>\n",
       "    </tr>\n",
       "  </thead>\n",
       "  <tbody>\n",
       "    <tr>\n",
       "      <th>0</th>\n",
       "      <td>1-2 x: xpxc</td>\n",
       "      <td>xpxc</td>\n",
       "      <td>x</td>\n",
       "      <td>1</td>\n",
       "      <td>2</td>\n",
       "    </tr>\n",
       "    <tr>\n",
       "      <th>1</th>\n",
       "      <td>1-5 b: bwlbbbbcq</td>\n",
       "      <td>bwlbbbbcq</td>\n",
       "      <td>b</td>\n",
       "      <td>1</td>\n",
       "      <td>5</td>\n",
       "    </tr>\n",
       "    <tr>\n",
       "      <th>2</th>\n",
       "      <td>3-5 v: qvjjdhvl</td>\n",
       "      <td>qvjjdhvl</td>\n",
       "      <td>v</td>\n",
       "      <td>3</td>\n",
       "      <td>5</td>\n",
       "    </tr>\n",
       "    <tr>\n",
       "      <th>3</th>\n",
       "      <td>9-12 t: ttfjvvtgxtctrntnhtt</td>\n",
       "      <td>ttfjvvtgxtctrntnhtt</td>\n",
       "      <td>t</td>\n",
       "      <td>9</td>\n",
       "      <td>12</td>\n",
       "    </tr>\n",
       "    <tr>\n",
       "      <th>4</th>\n",
       "      <td>3-4 r: rqjw</td>\n",
       "      <td>rqjw</td>\n",
       "      <td>r</td>\n",
       "      <td>3</td>\n",
       "      <td>4</td>\n",
       "    </tr>\n",
       "    <tr>\n",
       "      <th>...</th>\n",
       "      <td>...</td>\n",
       "      <td>...</td>\n",
       "      <td>...</td>\n",
       "      <td>...</td>\n",
       "      <td>...</td>\n",
       "    </tr>\n",
       "    <tr>\n",
       "      <th>995</th>\n",
       "      <td>5-7 n: lbwxnnnncnnwnv</td>\n",
       "      <td>lbwxnnnncnnwnv</td>\n",
       "      <td>n</td>\n",
       "      <td>5</td>\n",
       "      <td>7</td>\n",
       "    </tr>\n",
       "    <tr>\n",
       "      <th>996</th>\n",
       "      <td>8-9 k: kgkkkkkjf</td>\n",
       "      <td>kgkkkkkjf</td>\n",
       "      <td>k</td>\n",
       "      <td>8</td>\n",
       "      <td>9</td>\n",
       "    </tr>\n",
       "    <tr>\n",
       "      <th>997</th>\n",
       "      <td>7-9 l: llllllllll</td>\n",
       "      <td>llllllllll</td>\n",
       "      <td>l</td>\n",
       "      <td>7</td>\n",
       "      <td>9</td>\n",
       "    </tr>\n",
       "    <tr>\n",
       "      <th>998</th>\n",
       "      <td>15-19 p: pppbpcppxcptppvmpppb</td>\n",
       "      <td>pppbpcppxcptppvmpppb</td>\n",
       "      <td>p</td>\n",
       "      <td>15</td>\n",
       "      <td>19</td>\n",
       "    </tr>\n",
       "    <tr>\n",
       "      <th>999</th>\n",
       "      <td>3-4 m: fqmwcncsmp</td>\n",
       "      <td>fqmwcncsmp</td>\n",
       "      <td>m</td>\n",
       "      <td>3</td>\n",
       "      <td>4</td>\n",
       "    </tr>\n",
       "  </tbody>\n",
       "</table>\n",
       "<p>1000 rows × 5 columns</p>\n",
       "</div>"
      ],
      "text/plain": [
       "                                 0                string letter  lo_limit  \\\n",
       "0                      1-2 x: xpxc                  xpxc      x         1   \n",
       "1                 1-5 b: bwlbbbbcq             bwlbbbbcq      b         1   \n",
       "2                  3-5 v: qvjjdhvl              qvjjdhvl      v         3   \n",
       "3      9-12 t: ttfjvvtgxtctrntnhtt   ttfjvvtgxtctrntnhtt      t         9   \n",
       "4                      3-4 r: rqjw                  rqjw      r         3   \n",
       "..                             ...                   ...    ...       ...   \n",
       "995          5-7 n: lbwxnnnncnnwnv        lbwxnnnncnnwnv      n         5   \n",
       "996               8-9 k: kgkkkkkjf             kgkkkkkjf      k         8   \n",
       "997              7-9 l: llllllllll            llllllllll      l         7   \n",
       "998  15-19 p: pppbpcppxcptppvmpppb  pppbpcppxcptppvmpppb      p        15   \n",
       "999              3-4 m: fqmwcncsmp            fqmwcncsmp      m         3   \n",
       "\n",
       "     hi_limit  \n",
       "0           2  \n",
       "1           5  \n",
       "2           5  \n",
       "3          12  \n",
       "4           4  \n",
       "..        ...  \n",
       "995         7  \n",
       "996         9  \n",
       "997         9  \n",
       "998        19  \n",
       "999         4  \n",
       "\n",
       "[1000 rows x 5 columns]"
      ]
     },
     "execution_count": 28,
     "metadata": {},
     "output_type": "execute_result"
    }
   ],
   "source": [
    "pwd[['string', 'letter', 'lo_limit', 'hi_limit']] = pwd[0].apply(split_string)\n",
    "pwd['lo_limit'] = pwd['lo_limit'].astype(int)\n",
    "pwd['hi_limit'] = pwd['hi_limit'].astype(int)\n",
    "pwd"
   ]
  },
  {
   "cell_type": "code",
   "execution_count": 29,
   "metadata": {},
   "outputs": [],
   "source": [
    "import numpy as np\n",
    "def is_pwd(s,letter, lo_limit, hi_limit):\n",
    "#     print(s, letter, lo_limit, hi_limit)\n",
    "    rt = 0\n",
    "    lo_flag = (s[lo_limit - 1] == letter)\n",
    "    hi_flag = (s[hi_limit - 1] == letter)\n",
    "    if ( lo_flag ^ hi_flag ):\n",
    "        rt = 1\n",
    "    return rt"
   ]
  },
  {
   "cell_type": "code",
   "execution_count": 30,
   "metadata": {},
   "outputs": [
    {
     "data": {
      "text/plain": [
       "605"
      ]
     },
     "execution_count": 30,
     "metadata": {},
     "output_type": "execute_result"
    }
   ],
   "source": [
    "pwd['is_pwd'] = np.vectorize(is_pwd)(pwd['string'],pwd['letter'],pwd['lo_limit'],pwd['hi_limit'])\n",
    "pwd['is_pwd'].sum()"
   ]
  },
  {
   "cell_type": "code",
   "execution_count": null,
   "metadata": {},
   "outputs": [],
   "source": [
    "--- Day 3: Toboggan Trajectory ---\n",
    "With the toboggan login problems resolved, you set off toward the airport. While travel by toboggan might be easy, it's certainly not safe: there's very minimal steering and the area is covered in trees. You'll need to see which angles will take you near the fewest trees.\n",
    "\n",
    "Due to the local geology, trees in this area only grow on exact integer coordinates in a grid. You make a map (your puzzle input) of the open squares (.) and trees (#) you can see. For example:\n",
    "\n",
    "..##.......\n",
    "#...#...#..\n",
    ".#....#..#.\n",
    "..#.#...#.#\n",
    ".#...##..#.\n",
    "..#.##.....\n",
    ".#.#.#....#\n",
    ".#........#\n",
    "#.##...#...\n",
    "#...##....#\n",
    ".#..#...#.#\n",
    "These aren't the only trees, though; \n",
    "due to something you read about once involving arboreal genetics and biome stability, \n",
    "the same pattern repeats to the right many times:\n",
    "\n",
    "..##.........##.........##.........##.........##.........##.......  --->\n",
    "#...#...#..#...#...#..#...#...#..#...#...#..#...#...#..#...#...#..\n",
    ".#....#..#..#....#..#..#....#..#..#....#..#..#....#..#..#....#..#.\n",
    "..#.#...#.#..#.#...#.#..#.#...#.#..#.#...#.#..#.#...#.#..#.#...#.#\n",
    ".#...##..#..#...##..#..#...##..#..#...##..#..#...##..#..#...##..#.\n",
    "..#.##.......#.##.......#.##.......#.##.......#.##.......#.##.....  --->\n",
    ".#.#.#....#.#.#.#....#.#.#.#....#.#.#.#....#.#.#.#....#.#.#.#....#\n",
    ".#........#.#........#.#........#.#........#.#........#.#........#\n",
    "#.##...#...#.##...#...#.##...#...#.##...#...#.##...#...#.##...#...\n",
    "#...##....##...##....##...##....##...##....##...##....##...##....#\n",
    ".#..#...#.#.#..#...#.#.#..#...#.#.#..#...#.#.#..#...#.#.#..#...#.#  --->\n",
    "You start on the open square (.) in the top-left corner and \n",
    "    need to reach the bottom (below the bottom-most row on your map).\n",
    "\n",
    "The toboggan can only follow a few specific slopes \n",
    "    (you opted for a cheaper model that prefers rational numbers); \n",
    "    start by counting all the trees you would encounter for the slope right 3, down 1:\n",
    "\n",
    "From your starting position at the top-left, check the position that is right 3 and down 1. Then, check the position that is right 3 and down 1 from there, and so on until you go past the bottom of the map.\n",
    "\n",
    "The locations you'd check in the above example are marked here with O where there was an open square and X where there was a tree:\n",
    "\n",
    "..##.........##.........##.........##.........##.........##.......  --->\n",
    "#..O#...#..#...#...#..#...#...#..#...#...#..#...#...#..#...#...#..\n",
    ".#....X..#..#....#..#..#....#..#..#....#..#..#....#..#..#....#..#.\n",
    "..#.#...#O#..#.#...#.#..#.#...#.#..#.#...#.#..#.#...#.#..#.#...#.#\n",
    ".#...##..#..X...##..#..#...##..#..#...##..#..#...##..#..#...##..#.\n",
    "..#.##.......#.X#.......#.##.......#.##.......#.##.......#.##.....  --->\n",
    ".#.#.#....#.#.#.#.O..#.#.#.#....#.#.#.#....#.#.#.#....#.#.#.#....#\n",
    ".#........#.#........X.#........#.#........#.#........#.#........#\n",
    "#.##...#...#.##...#...#.X#...#...#.##...#...#.##...#...#.##...#...\n",
    "#...##....##...##....##...#X....##...##....##...##....##...##....#\n",
    ".#..#...#.#.#..#...#.#.#..#...X.#.#..#...#.#.#..#...#.#.#..#...#.#  --->\n",
    "In this example, traversing the map using this slope would cause you to encounter 7 trees.\n",
    "\n",
    "Starting at the top-left corner of your map and following a slope of right 3 and down 1,\n",
    "how many trees would you encounter?\n",
    "\n",
    "Your puzzle answer was 289.\n"
   ]
  },
  {
   "cell_type": "code",
   "execution_count": null,
   "metadata": {},
   "outputs": [],
   "source": [
    "--- Part Two ---\n",
    "Time to check the rest of the slopes - you need to minimize the probability of a sudden arboreal stop, after all.\n",
    "\n",
    "Determine the number of trees you would encounter if, for each of the following slopes, you start at the top-left corner and traverse the map all the way to the bottom:\n",
    "\n",
    "Right 1, down 1.\n",
    "Right 3, down 1. (This is the slope you already checked.)\n",
    "Right 5, down 1.\n",
    "Right 7, down 1.\n",
    "Right 1, down 2.\n",
    "In the above example, these slopes would find 2, 7, 3, 4, and 2 tree(s) respectively; multiplied together, these produce the answer 336.\n",
    "\n",
    "What do you get if you multiply together the number of trees encountered on each of the listed slopes?\n",
    "\n",
    "Your puzzle answer was 5522401584."
   ]
  },
  {
   "cell_type": "code",
   "execution_count": 127,
   "metadata": {},
   "outputs": [],
   "source": [
    "import pandas as pd\n",
    "import numpy as np\n",
    "import math\n"
   ]
  },
  {
   "cell_type": "code",
   "execution_count": 128,
   "metadata": {},
   "outputs": [],
   "source": [
    "ip = []\n",
    "f = open('./2020/3/example.txt','r')\n",
    "for line in f:\n",
    "    ip.append(list(line.rstrip('\\n')))\n",
    "f.close()\n"
   ]
  },
  {
   "cell_type": "code",
   "execution_count": 133,
   "metadata": {},
   "outputs": [],
   "source": [
    "max_d= len(ip)\n",
    "max_r = len(ip[0])"
   ]
  },
  {
   "cell_type": "code",
   "execution_count": 143,
   "metadata": {},
   "outputs": [
    {
     "data": {
      "text/plain": [
       "4"
      ]
     },
     "execution_count": 143,
     "metadata": {},
     "output_type": "execute_result"
    }
   ],
   "source": [
    "math.ceil(11/10 * 3)"
   ]
  },
  {
   "cell_type": "code",
   "execution_count": 145,
   "metadata": {},
   "outputs": [
    {
     "name": "stdout",
     "output_type": "stream",
     "text": [
      "3\n"
     ]
    }
   ],
   "source": [
    "ip_expanded = []\n",
    "r=3\n",
    "d=1\n",
    "repeat_factor = math.ceil((max_d/max_r) * ( r / d ))\n",
    "print(repeat_factor)\n",
    "for elem in ip:\n",
    "    ip_expanded.append(elem * repeat_factor)"
   ]
  },
  {
   "cell_type": "code",
   "execution_count": 146,
   "metadata": {},
   "outputs": [
    {
     "data": {
      "text/plain": [
       "(11, 33)"
      ]
     },
     "execution_count": 146,
     "metadata": {},
     "output_type": "execute_result"
    }
   ],
   "source": [
    "len(ip_expanded),len(ip_expanded[0])"
   ]
  },
  {
   "cell_type": "code",
   "execution_count": null,
   "metadata": {},
   "outputs": [],
   "source": []
  },
  {
   "cell_type": "code",
   "execution_count": 47,
   "metadata": {},
   "outputs": [],
   "source": []
  },
  {
   "cell_type": "code",
   "execution_count": 99,
   "metadata": {},
   "outputs": [],
   "source": []
  },
  {
   "cell_type": "code",
   "execution_count": 102,
   "metadata": {},
   "outputs": [
    {
     "data": {
      "text/plain": [
       "(323, 31)"
      ]
     },
     "execution_count": 102,
     "metadata": {},
     "output_type": "execute_result"
    }
   ],
   "source": [
    "#ip \n",
    "len(ip), len(ip[0])"
   ]
  },
  {
   "cell_type": "code",
   "execution_count": 111,
   "metadata": {},
   "outputs": [
    {
     "data": {
      "text/plain": [
       "(10, 1023)"
      ]
     },
     "execution_count": 111,
     "metadata": {},
     "output_type": "execute_result"
    }
   ],
   "source": [
    "round(323 / 31), 31*11*3"
   ]
  },
  {
   "cell_type": "code",
   "execution_count": 147,
   "metadata": {},
   "outputs": [],
   "source": []
  },
  {
   "cell_type": "code",
   "execution_count": 149,
   "metadata": {},
   "outputs": [
    {
     "data": {
      "text/plain": [
       "1"
      ]
     },
     "execution_count": 149,
     "metadata": {},
     "output_type": "execute_result"
    }
   ],
   "source": [
    "slopes[0][1]"
   ]
  },
  {
   "cell_type": "code",
   "execution_count": 155,
   "metadata": {},
   "outputs": [],
   "source": [
    "ip = []\n",
    "f = open('./2020/3/example.txt','r')\n",
    "for line in f:\n",
    "    ip.append(list(line.rstrip('\\n')))\n",
    "f.close()\n"
   ]
  },
  {
   "cell_type": "code",
   "execution_count": 159,
   "metadata": {},
   "outputs": [],
   "source": [
    "ip = []\n",
    "f = open('./2020/3/input.txt','r')\n",
    "for line in f:\n",
    "    ip.append(list(line.rstrip('\\n')))\n",
    "f.close()\n"
   ]
  },
  {
   "cell_type": "code",
   "execution_count": 160,
   "metadata": {},
   "outputs": [
    {
     "name": "stdout",
     "output_type": "stream",
     "text": [
      "84\n",
      "289\n",
      "89\n",
      "71\n",
      "36\n",
      "5522401584\n"
     ]
    }
   ],
   "source": [
    "slopes =[\n",
    "    (1,1),(3,1),(5,1),(7,1),(1,2)\n",
    "]\n",
    "# slopes =[\n",
    "#   (3,1)\n",
    "# ]\n",
    "num_trees = []\n",
    "max_r = len(ip[0])\n",
    "max_d= len(ip)\n",
    "for slope in slopes:\n",
    "    r = slope[0]\n",
    "    d = slope[1]\n",
    "#     r = 3\n",
    "#     d = 1\n",
    "#     repeat_pattern = (round(len(ip)/len(ip[0])) + 1)* r\n",
    "    repeat_factor = math.ceil((max_d/max_r) * ( r / d ))\n",
    "#     print(repeat_pattern)\n",
    "    ip_expanded = []\n",
    "    for elem in ip:\n",
    "        ip_expanded.append(elem * (repeat_factor))\n",
    "    max_d_expanded = len(ip_expanded)\n",
    "# print(max_d)\n",
    "    pt_x=0\n",
    "    pt_y=0\n",
    "    count = 0\n",
    "    while(pt_x <= max_d_expanded-1):\n",
    "#     print(pt_x, pt_y)\n",
    "        if (ip_expanded[pt_x][pt_y] == '#' ):\n",
    "            count = count + 1\n",
    "        pt_x = pt_x + d\n",
    "        pt_y = pt_y + r\n",
    "    num_trees.append(count)\n",
    "    print(count)\n",
    "print(np.prod(num_trees))"
   ]
  },
  {
   "cell_type": "code",
   "execution_count": null,
   "metadata": {},
   "outputs": [],
   "source": []
  },
  {
   "cell_type": "code",
   "execution_count": 110,
   "metadata": {},
   "outputs": [
    {
     "data": {
      "text/plain": [
       "1023"
      ]
     },
     "execution_count": 110,
     "metadata": {},
     "output_type": "execute_result"
    }
   ],
   "source": [
    "len(ip_expanded[0])"
   ]
  },
  {
   "cell_type": "code",
   "execution_count": 114,
   "metadata": {},
   "outputs": [
    {
     "name": "stdout",
     "output_type": "stream",
     "text": [
      "289\n"
     ]
    }
   ],
   "source": []
  },
  {
   "cell_type": "code",
   "execution_count": 123,
   "metadata": {},
   "outputs": [
    {
     "data": {
      "text/plain": [
       "72"
      ]
     },
     "execution_count": 123,
     "metadata": {},
     "output_type": "execute_result"
    }
   ],
   "source": [
    "l=[2,4,9]\n",
    "sum(l)\n",
    "np.prod(l)"
   ]
  },
  {
   "cell_type": "code",
   "execution_count": null,
   "metadata": {},
   "outputs": [],
   "source": []
  }
 ],
 "metadata": {
  "kernelspec": {
   "display_name": "Python 3",
   "language": "python",
   "name": "python3"
  },
  "language_info": {
   "codemirror_mode": {
    "name": "ipython",
    "version": 3
   },
   "file_extension": ".py",
   "mimetype": "text/x-python",
   "name": "python",
   "nbconvert_exporter": "python",
   "pygments_lexer": "ipython3",
   "version": "3.7.4"
  }
 },
 "nbformat": 4,
 "nbformat_minor": 4
}
